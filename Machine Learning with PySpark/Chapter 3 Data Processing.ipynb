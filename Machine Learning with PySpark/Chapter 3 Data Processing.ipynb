{
 "cells": [
  {
   "cell_type": "code",
   "execution_count": 2,
   "metadata": {},
   "outputs": [],
   "source": [
    "import findspark"
   ]
  },
  {
   "cell_type": "code",
   "execution_count": 3,
   "metadata": {},
   "outputs": [],
   "source": [
    "findspark.init()"
   ]
  },
  {
   "cell_type": "code",
   "execution_count": 4,
   "metadata": {},
   "outputs": [],
   "source": [
    "import pyspark"
   ]
  },
  {
   "cell_type": "code",
   "execution_count": 5,
   "metadata": {},
   "outputs": [],
   "source": [
    "from pyspark.sql import SparkSession"
   ]
  },
  {
   "cell_type": "code",
   "execution_count": 6,
   "metadata": {},
   "outputs": [],
   "source": [
    "spark = SparkSession.builder.appName('data_processing').getOrCreate()"
   ]
  },
  {
   "cell_type": "code",
   "execution_count": 60,
   "metadata": {},
   "outputs": [],
   "source": [
    "df = spark.read.csv(r'sample.csv', inferSchema=True, header=True)"
   ]
  },
  {
   "cell_type": "code",
   "execution_count": 8,
   "metadata": {},
   "outputs": [
    {
     "data": {
      "text/plain": [
       "DataFrame[ratings: int, age: int, experience: double, family: int, mobile: string]"
      ]
     },
     "execution_count": 8,
     "metadata": {},
     "output_type": "execute_result"
    }
   ],
   "source": [
    "df"
   ]
  },
  {
   "cell_type": "code",
   "execution_count": 61,
   "metadata": {},
   "outputs": [
    {
     "name": "stdout",
     "output_type": "stream",
     "text": [
      "+-------+---+----------+------+-------+\n",
      "|ratings|age|experience|family| mobile|\n",
      "+-------+---+----------+------+-------+\n",
      "|      3| 32|       9.0|     3|   Vivo|\n",
      "|      3| 27|      13.0|     3|  Apple|\n",
      "|      4| 22|       2.5|     0|Samsung|\n",
      "|      4| 37|      16.5|     4|  Apple|\n",
      "|      5| 27|       9.0|     1|     MI|\n",
      "|      4| 27|       9.0|     0|   Oppo|\n",
      "|      5| 37|      23.0|     5|   Vivo|\n",
      "|      5| 37|      23.0|     5|Samsung|\n",
      "|      3| 22|       2.5|     0|  Apple|\n",
      "|      3| 27|       6.0|     0|     MI|\n",
      "|      2| 27|       6.0|     2|   Oppo|\n",
      "|      5| 27|       6.0|     2|Samsung|\n",
      "|      3| 37|      16.5|     5|  Apple|\n",
      "|      5| 27|       6.0|     0|     MI|\n",
      "|      4| 22|       6.0|     1|   Oppo|\n",
      "|      4| 37|       9.0|     2|Samsung|\n",
      "|      4| 27|       6.0|     1|  Apple|\n",
      "|      1| 37|      23.0|     5|     MI|\n",
      "|      2| 42|      23.0|     2|   Oppo|\n",
      "|      4| 37|       6.0|     0|   Vivo|\n",
      "+-------+---+----------+------+-------+\n",
      "only showing top 20 rows\n",
      "\n"
     ]
    }
   ],
   "source": [
    "df.show()"
   ]
  },
  {
   "cell_type": "code",
   "execution_count": 10,
   "metadata": {},
   "outputs": [
    {
     "data": {
      "text/plain": [
       "(33, 5)"
      ]
     },
     "execution_count": 10,
     "metadata": {},
     "output_type": "execute_result"
    }
   ],
   "source": [
    "df.count(),len(df.columns)"
   ]
  },
  {
   "cell_type": "markdown",
   "metadata": {},
   "source": [
    "## Print schema"
   ]
  },
  {
   "cell_type": "code",
   "execution_count": 34,
   "metadata": {},
   "outputs": [
    {
     "name": "stdout",
     "output_type": "stream",
     "text": [
      "root\n",
      " |-- ratings: integer (nullable = true)\n",
      " |-- age: integer (nullable = true)\n",
      " |-- experience: double (nullable = true)\n",
      " |-- family: integer (nullable = true)\n",
      " |-- mobile: string (nullable = true)\n",
      "\n"
     ]
    }
   ],
   "source": [
    "df.printSchema()"
   ]
  },
  {
   "cell_type": "markdown",
   "metadata": {},
   "source": [
    "## Select columns"
   ]
  },
  {
   "cell_type": "code",
   "execution_count": 38,
   "metadata": {},
   "outputs": [
    {
     "name": "stdout",
     "output_type": "stream",
     "text": [
      "+---+-------+\n",
      "|age| mobile|\n",
      "+---+-------+\n",
      "| 32|   Vivo|\n",
      "| 27|  Apple|\n",
      "| 22|Samsung|\n",
      "| 37|  Apple|\n",
      "| 27|     MI|\n",
      "+---+-------+\n",
      "only showing top 5 rows\n",
      "\n"
     ]
    }
   ],
   "source": [
    "df.select('age','mobile').show(5)"
   ]
  },
  {
   "cell_type": "markdown",
   "metadata": {},
   "source": [
    "## Describe"
   ]
  },
  {
   "cell_type": "code",
   "execution_count": 42,
   "metadata": {},
   "outputs": [
    {
     "name": "stdout",
     "output_type": "stream",
     "text": [
      "+-------+------------------+------------------+------------------+------------------+------+\n",
      "|summary|           ratings|               age|        experience|            family|mobile|\n",
      "+-------+------------------+------------------+------------------+------------------+------+\n",
      "|  count|                33|                33|                33|                33|    33|\n",
      "|   mean|3.5757575757575757|30.484848484848484|10.303030303030303|1.8181818181818181|  null|\n",
      "| stddev|1.1188806636071336|  6.18527087180309| 6.770731351213326|1.8448330794164254|  null|\n",
      "|    min|                 1|                22|               2.5|                 0| Apple|\n",
      "|    max|                 5|                42|              23.0|                 5|  Vivo|\n",
      "+-------+------------------+------------------+------------------+------------------+------+\n",
      "\n"
     ]
    }
   ],
   "source": [
    "df.describe().show()"
   ]
  },
  {
   "cell_type": "markdown",
   "metadata": {},
   "source": [
    "## Adding a new column"
   ]
  },
  {
   "cell_type": "code",
   "execution_count": 63,
   "metadata": {},
   "outputs": [],
   "source": [
    "df = df.withColumn('newly_added', (df['age']+10))"
   ]
  },
  {
   "cell_type": "code",
   "execution_count": 65,
   "metadata": {},
   "outputs": [
    {
     "name": "stdout",
     "output_type": "stream",
     "text": [
      "+-------+---+----------+------+-------+-----------+\n",
      "|ratings|age|experience|family| mobile|newly_added|\n",
      "+-------+---+----------+------+-------+-----------+\n",
      "|      3| 32|       9.0|     3|   Vivo|         42|\n",
      "|      3| 27|      13.0|     3|  Apple|         37|\n",
      "|      4| 22|       2.5|     0|Samsung|         32|\n",
      "|      4| 37|      16.5|     4|  Apple|         47|\n",
      "|      5| 27|       9.0|     1|     MI|         37|\n",
      "|      4| 27|       9.0|     0|   Oppo|         37|\n",
      "|      5| 37|      23.0|     5|   Vivo|         47|\n",
      "|      5| 37|      23.0|     5|Samsung|         47|\n",
      "|      3| 22|       2.5|     0|  Apple|         32|\n",
      "|      3| 27|       6.0|     0|     MI|         37|\n",
      "|      2| 27|       6.0|     2|   Oppo|         37|\n",
      "|      5| 27|       6.0|     2|Samsung|         37|\n",
      "|      3| 37|      16.5|     5|  Apple|         47|\n",
      "|      5| 27|       6.0|     0|     MI|         37|\n",
      "|      4| 22|       6.0|     1|   Oppo|         32|\n",
      "|      4| 37|       9.0|     2|Samsung|         47|\n",
      "|      4| 27|       6.0|     1|  Apple|         37|\n",
      "|      1| 37|      23.0|     5|     MI|         47|\n",
      "|      2| 42|      23.0|     2|   Oppo|         52|\n",
      "|      4| 37|       6.0|     0|   Vivo|         47|\n",
      "+-------+---+----------+------+-------+-----------+\n",
      "only showing top 20 rows\n",
      "\n"
     ]
    }
   ],
   "source": [
    "df.show()"
   ]
  },
  {
   "cell_type": "markdown",
   "metadata": {},
   "source": [
    "## Filtering data"
   ]
  },
  {
   "cell_type": "code",
   "execution_count": 67,
   "metadata": {},
   "outputs": [
    {
     "name": "stdout",
     "output_type": "stream",
     "text": [
      "+-------+---+----------+------+------+-----------+\n",
      "|ratings|age|experience|family|mobile|newly_added|\n",
      "+-------+---+----------+------+------+-----------+\n",
      "|      3| 32|       9.0|     3|  Vivo|         42|\n",
      "|      5| 37|      23.0|     5|  Vivo|         47|\n",
      "|      4| 37|       6.0|     0|  Vivo|         47|\n",
      "|      5| 37|      13.0|     1|  Vivo|         47|\n",
      "|      4| 37|       6.0|     0|  Vivo|         47|\n",
      "+-------+---+----------+------+------+-----------+\n",
      "\n"
     ]
    }
   ],
   "source": [
    "df.filter(df['mobile'] == 'Vivo').show()"
   ]
  },
  {
   "cell_type": "markdown",
   "metadata": {},
   "source": [
    "## Chained filters"
   ]
  },
  {
   "cell_type": "code",
   "execution_count": 81,
   "metadata": {},
   "outputs": [
    {
     "name": "stdout",
     "output_type": "stream",
     "text": [
      "+-------+---+----------+------+------+-----------+\n",
      "|ratings|age|experience|family|mobile|newly_added|\n",
      "+-------+---+----------+------+------+-----------+\n",
      "|      3| 27|      13.0|     3| Apple|         37|\n",
      "|      3| 22|       2.5|     0| Apple|         32|\n",
      "|      4| 27|       6.0|     1| Apple|         37|\n",
      "|      4| 27|       6.0|     1| Apple|         37|\n",
      "+-------+---+----------+------+------+-----------+\n",
      "\n"
     ]
    }
   ],
   "source": [
    "df.filter(df['age'] < 28).filter(df['mobile'] == 'Apple').show()"
   ]
  },
  {
   "cell_type": "markdown",
   "metadata": {},
   "source": [
    "## Converting to a pandas df"
   ]
  },
  {
   "cell_type": "code",
   "execution_count": 69,
   "metadata": {},
   "outputs": [],
   "source": [
    "df = df.toPandas()"
   ]
  },
  {
   "cell_type": "markdown",
   "metadata": {},
   "source": [
    "## Converting back to spark df"
   ]
  },
  {
   "cell_type": "code",
   "execution_count": 72,
   "metadata": {},
   "outputs": [],
   "source": [
    "df = spark.createDataFrame(df)"
   ]
  },
  {
   "cell_type": "markdown",
   "metadata": {},
   "source": [
    "## Distinct value"
   ]
  },
  {
   "cell_type": "code",
   "execution_count": 82,
   "metadata": {},
   "outputs": [
    {
     "name": "stdout",
     "output_type": "stream",
     "text": [
      "+-------+\n",
      "| mobile|\n",
      "+-------+\n",
      "|     MI|\n",
      "|   Oppo|\n",
      "|Samsung|\n",
      "|   Vivo|\n",
      "|  Apple|\n",
      "+-------+\n",
      "\n"
     ]
    }
   ],
   "source": [
    "df.select('mobile').distinct().show()"
   ]
  },
  {
   "cell_type": "markdown",
   "metadata": {},
   "source": [
    "## Groupby"
   ]
  },
  {
   "cell_type": "code",
   "execution_count": 93,
   "metadata": {},
   "outputs": [
    {
     "name": "stdout",
     "output_type": "stream",
     "text": [
      "+-------+-----+\n",
      "| mobile|count|\n",
      "+-------+-----+\n",
      "|  Apple|    7|\n",
      "|     MI|    8|\n",
      "|   Oppo|    7|\n",
      "|Samsung|    6|\n",
      "|   Vivo|    5|\n",
      "+-------+-----+\n",
      "\n"
     ]
    }
   ],
   "source": [
    "df.groupBy('mobile').count().orderBy('mobile',descending=False).show()"
   ]
  },
  {
   "cell_type": "code",
   "execution_count": 94,
   "metadata": {},
   "outputs": [
    {
     "name": "stdout",
     "output_type": "stream",
     "text": [
      "+-------+------------------+------------------+------------------+------------------+------------------+\n",
      "| mobile|      avg(ratings)|          avg(age)|   avg(experience)|       avg(family)|  avg(newly_added)|\n",
      "+-------+------------------+------------------+------------------+------------------+------------------+\n",
      "|     MI|               3.5|            30.125|           10.1875|             1.375|            40.125|\n",
      "|   Oppo| 2.857142857142857|28.428571428571427|10.357142857142858|1.4285714285714286| 38.42857142857143|\n",
      "|Samsung| 4.166666666666667|28.666666666666668| 8.666666666666666|1.8333333333333333|38.666666666666664|\n",
      "|   Vivo|               4.2|              36.0|              11.4|               1.8|              46.0|\n",
      "|  Apple|3.4285714285714284|30.571428571428573|              11.0|2.7142857142857144| 40.57142857142857|\n",
      "+-------+------------------+------------------+------------------+------------------+------------------+\n",
      "\n"
     ]
    }
   ],
   "source": [
    "df.groupby('mobile').mean().show()"
   ]
  },
  {
   "cell_type": "code",
   "execution_count": 106,
   "metadata": {},
   "outputs": [
    {
     "name": "stdout",
     "output_type": "stream",
     "text": [
      "+-------+------------+--------+---------------+-----------+----------------+\n",
      "| mobile|max(ratings)|max(age)|max(experience)|max(family)|max(newly_added)|\n",
      "+-------+------------+--------+---------------+-----------+----------------+\n",
      "|     MI|           5|      42|           23.0|          5|              52|\n",
      "|   Oppo|           4|      42|           23.0|          2|              52|\n",
      "|Samsung|           5|      37|           23.0|          5|              47|\n",
      "|   Vivo|           5|      37|           23.0|          5|              47|\n",
      "|  Apple|           4|      37|           16.5|          5|              47|\n",
      "+-------+------------+--------+---------------+-----------+----------------+\n",
      "\n"
     ]
    }
   ],
   "source": [
    "df.groupby('mobile').max().show()"
   ]
  },
  {
   "cell_type": "markdown",
   "metadata": {},
   "source": [
    "## Aggregations"
   ]
  },
  {
   "cell_type": "code",
   "execution_count": 109,
   "metadata": {},
   "outputs": [
    {
     "name": "stdout",
     "output_type": "stream",
     "text": [
      "+-------+---------------+\n",
      "| mobile|max(experience)|\n",
      "+-------+---------------+\n",
      "|     MI|           23.0|\n",
      "|   Oppo|           23.0|\n",
      "|Samsung|           23.0|\n",
      "|   Vivo|           23.0|\n",
      "|  Apple|           16.5|\n",
      "+-------+---------------+\n",
      "\n"
     ]
    }
   ],
   "source": [
    "df.groupby('mobile').agg({'experience':'max'}).show()"
   ]
  },
  {
   "cell_type": "code",
   "execution_count": 114,
   "metadata": {},
   "outputs": [
    {
     "name": "stdout",
     "output_type": "stream",
     "text": [
      "+------+---------------+\n",
      "|mobile|max(experience)|\n",
      "+------+---------------+\n",
      "|    MI|           23.0|\n",
      "+------+---------------+\n",
      "\n"
     ]
    }
   ],
   "source": [
    "df.filter(df['mobile'] == 'MI').groupby('mobile').max().select('mobile','max(experience)').show()"
   ]
  },
  {
   "cell_type": "markdown",
   "metadata": {},
   "source": [
    "## User Defined Functions"
   ]
  },
  {
   "cell_type": "code",
   "execution_count": 115,
   "metadata": {},
   "outputs": [],
   "source": [
    "from pyspark.sql.functions import udf"
   ]
  },
  {
   "cell_type": "code",
   "execution_count": 116,
   "metadata": {},
   "outputs": [],
   "source": [
    "def price_(brand):\n",
    "    if brand in ['Samsung', 'Apple']:\n",
    "        return 'High price'\n",
    "    elif brand == 'MI':\n",
    "        return 'Mid Price'\n",
    "    else:\n",
    "        return 'Low price'"
   ]
  },
  {
   "cell_type": "code",
   "execution_count": 118,
   "metadata": {},
   "outputs": [
    {
     "data": {
      "text/plain": [
       "'High price'"
      ]
     },
     "execution_count": 118,
     "metadata": {},
     "output_type": "execute_result"
    }
   ],
   "source": [
    "price_('Samsung')"
   ]
  },
  {
   "cell_type": "code",
   "execution_count": 119,
   "metadata": {},
   "outputs": [],
   "source": [
    "brand_udf = udf(price_,StringType())"
   ]
  },
  {
   "cell_type": "code",
   "execution_count": 131,
   "metadata": {},
   "outputs": [
    {
     "name": "stdout",
     "output_type": "stream",
     "text": [
      "+-------+---+----------+------+-------+-----------+-----------+\n",
      "|ratings|age|experience|family| mobile|newly_added|price range|\n",
      "+-------+---+----------+------+-------+-----------+-----------+\n",
      "|      3| 32|       9.0|     3|   Vivo|         42|  Low price|\n",
      "|      3| 27|      13.0|     3|  Apple|         37| High price|\n",
      "|      4| 22|       2.5|     0|Samsung|         32| High price|\n",
      "|      4| 37|      16.5|     4|  Apple|         47| High price|\n",
      "|      5| 27|       9.0|     1|     MI|         37|  Mid Price|\n",
      "+-------+---+----------+------+-------+-----------+-----------+\n",
      "only showing top 5 rows\n",
      "\n"
     ]
    }
   ],
   "source": [
    "df.withColumn('price range',brand_udf(df['mobile'])).show(5)"
   ]
  },
  {
   "cell_type": "code",
   "execution_count": 136,
   "metadata": {},
   "outputs": [],
   "source": [
    "# Functions with two arguments (2 columns)"
   ]
  },
  {
   "cell_type": "code",
   "execution_count": 133,
   "metadata": {},
   "outputs": [],
   "source": [
    "def func(age,exp):\n",
    "    return age+exp"
   ]
  },
  {
   "cell_type": "code",
   "execution_count": 134,
   "metadata": {},
   "outputs": [],
   "source": [
    "f = udf(func,DoubleType())"
   ]
  },
  {
   "cell_type": "code",
   "execution_count": 135,
   "metadata": {},
   "outputs": [
    {
     "name": "stdout",
     "output_type": "stream",
     "text": [
      "+-------+---+----------+------+-------+-----------+----+\n",
      "|ratings|age|experience|family| mobile|newly_added| add|\n",
      "+-------+---+----------+------+-------+-----------+----+\n",
      "|      3| 32|       9.0|     3|   Vivo|         42|41.0|\n",
      "|      3| 27|      13.0|     3|  Apple|         37|40.0|\n",
      "|      4| 22|       2.5|     0|Samsung|         32|24.5|\n",
      "|      4| 37|      16.5|     4|  Apple|         47|53.5|\n",
      "|      5| 27|       9.0|     1|     MI|         37|36.0|\n",
      "+-------+---+----------+------+-------+-----------+----+\n",
      "only showing top 5 rows\n",
      "\n"
     ]
    }
   ],
   "source": [
    "df.withColumn('add', f(df['age'],df['experience'])).show(5)"
   ]
  },
  {
   "cell_type": "markdown",
   "metadata": {},
   "source": [
    "## Drop duplicates"
   ]
  },
  {
   "cell_type": "code",
   "execution_count": 137,
   "metadata": {},
   "outputs": [],
   "source": [
    "df = df.drop_duplicates()"
   ]
  },
  {
   "cell_type": "code",
   "execution_count": 139,
   "metadata": {},
   "outputs": [
    {
     "data": {
      "text/plain": [
       "26"
      ]
     },
     "execution_count": 139,
     "metadata": {},
     "output_type": "execute_result"
    }
   ],
   "source": [
    "df.count()"
   ]
  },
  {
   "cell_type": "code",
   "execution_count": 140,
   "metadata": {},
   "outputs": [
    {
     "name": "stdout",
     "output_type": "stream",
     "text": [
      "Help on method dropDuplicates in module pyspark.sql.dataframe:\n",
      "\n",
      "dropDuplicates(subset=None) method of pyspark.sql.dataframe.DataFrame instance\n",
      "    :func:`drop_duplicates` is an alias for :func:`dropDuplicates`.\n",
      "    \n",
      "    .. versionadded:: 1.4\n",
      "\n"
     ]
    }
   ],
   "source": [
    "help(df.drop_duplicates)"
   ]
  },
  {
   "cell_type": "markdown",
   "metadata": {},
   "source": [
    "## Delete columns"
   ]
  },
  {
   "cell_type": "code",
   "execution_count": 141,
   "metadata": {},
   "outputs": [
    {
     "data": {
      "text/plain": [
       "DataFrame[ratings: bigint, age: bigint, experience: double, family: bigint, newly_added: bigint]"
      ]
     },
     "execution_count": 141,
     "metadata": {},
     "output_type": "execute_result"
    }
   ],
   "source": [
    "df.drop('mobile')"
   ]
  },
  {
   "cell_type": "code",
   "execution_count": 142,
   "metadata": {},
   "outputs": [
    {
     "name": "stdout",
     "output_type": "stream",
     "text": [
      "+-------+---+----------+------+------+-----------+\n",
      "|ratings|age|experience|family|mobile|newly_added|\n",
      "+-------+---+----------+------+------+-----------+\n",
      "|      1| 37|      23.0|     5|    MI|         47|\n",
      "|      4| 27|       9.0|     0|  Oppo|         37|\n",
      "|      3| 32|       9.0|     3|  Vivo|         42|\n",
      "|      2| 42|      23.0|     2|  Oppo|         52|\n",
      "|      5| 27|       9.0|     1|    MI|         37|\n",
      "+-------+---+----------+------+------+-----------+\n",
      "only showing top 5 rows\n",
      "\n"
     ]
    }
   ],
   "source": [
    "df.show(5)"
   ]
  },
  {
   "cell_type": "markdown",
   "metadata": {},
   "source": [
    "## Writing df"
   ]
  },
  {
   "cell_type": "code",
   "execution_count": 143,
   "metadata": {},
   "outputs": [
    {
     "data": {
      "text/plain": [
       "'C:\\\\Users\\\\surie\\\\Books to notebooks\\\\ML with pyspark'"
      ]
     },
     "execution_count": 143,
     "metadata": {},
     "output_type": "execute_result"
    }
   ],
   "source": [
    "pwd"
   ]
  },
  {
   "cell_type": "code",
   "execution_count": 144,
   "metadata": {},
   "outputs": [],
   "source": [
    "write_path = r'C:\\\\Users\\\\surie\\\\Books to notebooks\\\\ML with pyspark\\\\df_csv'"
   ]
  },
  {
   "cell_type": "code",
   "execution_count": 148,
   "metadata": {},
   "outputs": [],
   "source": [
    "df.write.format('csv').option('header','true').save(write_path)"
   ]
  }
 ],
 "metadata": {
  "kernelspec": {
   "display_name": "Python 3",
   "language": "python",
   "name": "python3"
  },
  "language_info": {
   "codemirror_mode": {
    "name": "ipython",
    "version": 3
   },
   "file_extension": ".py",
   "mimetype": "text/x-python",
   "name": "python",
   "nbconvert_exporter": "python",
   "pygments_lexer": "ipython3",
   "version": "3.8.3"
  }
 },
 "nbformat": 4,
 "nbformat_minor": 4
}
