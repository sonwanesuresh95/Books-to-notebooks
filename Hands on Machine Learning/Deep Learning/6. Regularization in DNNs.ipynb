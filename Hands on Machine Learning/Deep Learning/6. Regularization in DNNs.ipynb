{
 "cells": [
  {
   "cell_type": "code",
   "execution_count": 1,
   "metadata": {},
   "outputs": [],
   "source": [
    "import tensorflow as tf\n",
    "from tensorflow import keras\n",
    "import numpy as np\n",
    "import matplotlib.pyplot as plt"
   ]
  },
  {
   "cell_type": "markdown",
   "metadata": {},
   "source": [
    "# Overfitting and Regularization"
   ]
  },
  {
   "cell_type": "code",
   "execution_count": 2,
   "metadata": {},
   "outputs": [],
   "source": [
    "(X_train,y_train),(X_test,y_test) = keras.datasets.fashion_mnist.load_data()"
   ]
  },
  {
   "cell_type": "code",
   "execution_count": 12,
   "metadata": {},
   "outputs": [],
   "source": [
    "# creating validation sets and scaling\n",
    "X_valid = X_train[:5000]/255\n",
    "X_train = X_train[5000:]/255\n",
    "y_valid = y_train[:5000]\n",
    "y_train = y_train[5000:]"
   ]
  },
  {
   "cell_type": "markdown",
   "metadata": {},
   "source": [
    "## Dropout Regularization"
   ]
  },
  {
   "cell_type": "code",
   "execution_count": 17,
   "metadata": {},
   "outputs": [],
   "source": [
    "model = keras.models.Sequential([\n",
    "    keras.layers.Flatten(input_shape=(28,28)),\n",
    "    keras.layers.Dropout(rate=0.5),\n",
    "    keras.layers.Dense(units=300,activation='elu',kernel_initializer='he_normal'),\n",
    "    keras.layers.Dropout(rate=0.5),\n",
    "    keras.layers.Dense(units=100,activation='elu',kernel_initializer='he_normal'),\n",
    "    keras.layers.Dropout(rate=0.5),\n",
    "    keras.layers.Dense(units=10,activation='softmax'),\n",
    "])"
   ]
  },
  {
   "cell_type": "code",
   "execution_count": 18,
   "metadata": {},
   "outputs": [],
   "source": [
    "model.compile(loss='sparse_categorical_crossentropy',optimizer='adam',metrics=['accuracy'])"
   ]
  },
  {
   "cell_type": "code",
   "execution_count": 19,
   "metadata": {
    "scrolled": true
   },
   "outputs": [
    {
     "name": "stdout",
     "output_type": "stream",
     "text": [
      "Epoch 1/10\n",
      "1719/1719 [==============================] - 6s 4ms/step - loss: 0.8657 - accuracy: 0.6922 - val_loss: 0.4918 - val_accuracy: 0.8238\n",
      "Epoch 2/10\n",
      "1719/1719 [==============================] - 6s 4ms/step - loss: 0.6403 - accuracy: 0.7611 - val_loss: 0.4453 - val_accuracy: 0.8388\n",
      "Epoch 3/10\n",
      "1719/1719 [==============================] - 6s 4ms/step - loss: 0.5952 - accuracy: 0.7812 - val_loss: 0.4371 - val_accuracy: 0.8370\n",
      "Epoch 4/10\n",
      "1719/1719 [==============================] - 6s 3ms/step - loss: 0.5729 - accuracy: 0.7873 - val_loss: 0.4247 - val_accuracy: 0.8362\n",
      "Epoch 5/10\n",
      "1719/1719 [==============================] - 6s 3ms/step - loss: 0.5581 - accuracy: 0.7940 - val_loss: 0.4076 - val_accuracy: 0.8462\n",
      "Epoch 6/10\n",
      "1719/1719 [==============================] - 6s 4ms/step - loss: 0.5434 - accuracy: 0.7996 - val_loss: 0.3958 - val_accuracy: 0.8512\n",
      "Epoch 7/10\n",
      "1719/1719 [==============================] - 6s 4ms/step - loss: 0.5317 - accuracy: 0.8018 - val_loss: 0.3908 - val_accuracy: 0.8556\n",
      "Epoch 8/10\n",
      "1719/1719 [==============================] - 6s 4ms/step - loss: 0.5239 - accuracy: 0.8069 - val_loss: 0.3742 - val_accuracy: 0.8678\n",
      "Epoch 9/10\n",
      "1719/1719 [==============================] - 6s 4ms/step - loss: 0.5204 - accuracy: 0.8065 - val_loss: 0.3768 - val_accuracy: 0.8630\n",
      "Epoch 10/10\n",
      "1719/1719 [==============================] - 6s 4ms/step - loss: 0.5122 - accuracy: 0.8099 - val_loss: 0.3749 - val_accuracy: 0.8606\n"
     ]
    }
   ],
   "source": [
    "history = model.fit(X_train,y_train,epochs=10,validation_data=(X_valid,y_valid))"
   ]
  },
  {
   "cell_type": "code",
   "execution_count": 20,
   "metadata": {},
   "outputs": [
    {
     "name": "stdout",
     "output_type": "stream",
     "text": [
      "313/313 [==============================] - 1s 2ms/step - loss: 47.8297 - accuracy: 0.7748\n"
     ]
    },
    {
     "data": {
      "text/plain": [
       "[47.829742431640625, 0.7748000025749207]"
      ]
     },
     "execution_count": 20,
     "metadata": {},
     "output_type": "execute_result"
    }
   ],
   "source": [
    "model.evaluate(X_test,y_test)"
   ]
  },
  {
   "cell_type": "markdown",
   "metadata": {},
   "source": [
    "previous training accuracy and testing accuracy on dropout rate = 0.2<br>\n",
    "87.06, 81.64"
   ]
  },
  {
   "cell_type": "markdown",
   "metadata": {},
   "source": [
    "New<br>\n",
    "80.99, 77.48"
   ]
  },
  {
   "cell_type": "markdown",
   "metadata": {},
   "source": [
    "## For L1 and L2 regularization, put kernel_regularizer.L1 or L2 in Dense layer"
   ]
  }
 ],
 "metadata": {
  "kernelspec": {
   "display_name": "Python 3",
   "language": "python",
   "name": "python3"
  },
  "language_info": {
   "codemirror_mode": {
    "name": "ipython",
    "version": 3
   },
   "file_extension": ".py",
   "mimetype": "text/x-python",
   "name": "python",
   "nbconvert_exporter": "python",
   "pygments_lexer": "ipython3",
   "version": "3.8.3"
  }
 },
 "nbformat": 4,
 "nbformat_minor": 4
}
