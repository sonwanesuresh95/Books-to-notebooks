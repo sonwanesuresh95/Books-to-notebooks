{
 "cells": [
  {
   "cell_type": "markdown",
   "metadata": {},
   "source": [
    "# Welcome to Deep Learning"
   ]
  },
  {
   "cell_type": "markdown",
   "metadata": {},
   "source": [
    "using sklearn build basic perceptron on iris"
   ]
  },
  {
   "cell_type": "code",
   "execution_count": null,
   "metadata": {},
   "outputs": [],
   "source": [
    "from sklearn.linear_model import Perceptron\n",
    "import numpy as np\n",
    "from sklearn.datasets import load_iris"
   ]
  },
  {
   "cell_type": "code",
   "execution_count": null,
   "metadata": {},
   "outputs": [],
   "source": [
    "iris = load_iris()"
   ]
  },
  {
   "cell_type": "code",
   "execution_count": null,
   "metadata": {},
   "outputs": [],
   "source": [
    "X = iris.data[:,(2,3)]"
   ]
  },
  {
   "cell_type": "code",
   "execution_count": null,
   "metadata": {},
   "outputs": [],
   "source": [
    "y = (iris.target == 0).astype(np.int)"
   ]
  },
  {
   "cell_type": "code",
   "execution_count": null,
   "metadata": {},
   "outputs": [],
   "source": [
    "perceptron = Perceptron()"
   ]
  },
  {
   "cell_type": "code",
   "execution_count": null,
   "metadata": {},
   "outputs": [],
   "source": [
    "perceptron.fit(X,y)"
   ]
  },
  {
   "cell_type": "code",
   "execution_count": null,
   "metadata": {},
   "outputs": [],
   "source": [
    "y_pred = perceptron.predict([[2,0.5]])"
   ]
  },
  {
   "cell_type": "code",
   "execution_count": null,
   "metadata": {},
   "outputs": [],
   "source": [
    "y_pred"
   ]
  },
  {
   "cell_type": "markdown",
   "metadata": {},
   "source": [
    "Perceptron = SGDClassifier(loss = 'perceptron', learning_rate = 'constant', eta0 = 1, penalty = None)"
   ]
  },
  {
   "cell_type": "markdown",
   "metadata": {},
   "source": [
    "### MLP or Multi-Layer Perceptron\n"
   ]
  },
  {
   "cell_type": "markdown",
   "metadata": {},
   "source": [
    "Stacking more perceptron one over the other"
   ]
  },
  {
   "cell_type": "markdown",
   "metadata": {},
   "source": [
    "input layer - hidden layer - output layer"
   ]
  },
  {
   "cell_type": "markdown",
   "metadata": {},
   "source": [
    "### ANN + stack of hidden layers = Deep Neural Network"
   ]
  },
  {
   "cell_type": "markdown",
   "metadata": {},
   "source": [
    "In 1986, Geoffrey Hinton et al invented backpropagation for training neural networks"
   ]
  },
  {
   "cell_type": "markdown",
   "metadata": {},
   "source": [
    "<a>Automatic computing gradients is called automatic differentiation or autodiff"
   ]
  },
  {
   "cell_type": "markdown",
   "metadata": {},
   "source": [
    "Backpropagation Steps:<br>\n",
    "1. Make prediction with one forward pass with randomly initialized weights\n",
    "2. Measure the error with reverse pass\n",
    "3. Update weights to reduce errors\n",
    "4. Repeat for other instances"
   ]
  },
  {
   "cell_type": "markdown",
   "metadata": {},
   "source": [
    "### Activation Functions: used at the core of a node in deep neural network"
   ]
  },
  {
   "cell_type": "markdown",
   "metadata": {},
   "source": [
    "They map input to a non linear output"
   ]
  },
  {
   "cell_type": "markdown",
   "metadata": {},
   "source": [
    "1. Sigmoid (0 to 1)\n",
    "2. Tanh (-1 to 1)\n",
    "3. ReLU (0 to z)"
   ]
  },
  {
   "cell_type": "markdown",
   "metadata": {},
   "source": [
    "For classification purpose, do not use any activation function for output neuron"
   ]
  },
  {
   "cell_type": "markdown",
   "metadata": {},
   "source": [
    "### General Structure of DNN"
   ]
  },
  {
   "cell_type": "markdown",
   "metadata": {},
   "source": [
    "input nodes = 1 per input<br>\n",
    "hidden layers = 1 to 5<br>\n",
    "hidden units per layer = 10 to 100<br>\n",
    "output units = 1 per dimension<br>\n",
    "activation = ReLU or SeLU<br>\n",
    "Loss function = MSE or MAE/Huber(if outliers)"
   ]
  },
  {
   "cell_type": "markdown",
   "metadata": {},
   "source": [
    "<b>For Multiclass classification, use 1 output unit per class and take softmax"
   ]
  },
  {
   "cell_type": "markdown",
   "metadata": {},
   "source": [
    "<b>For Multi label binary classification, use 1 output unit per label"
   ]
  },
  {
   "cell_type": "markdown",
   "metadata": {},
   "source": [
    "<b>Loss function for classification problems is Cross-Entropy"
   ]
  },
  {
   "cell_type": "markdown",
   "metadata": {},
   "source": [
    "# Keras"
   ]
  },
  {
   "cell_type": "markdown",
   "metadata": {},
   "source": [
    "### Developed by Francis Chollet, released as open source in March 2015"
   ]
  },
  {
   "cell_type": "markdown",
   "metadata": {},
   "source": [
    "Thank you sir for your contribution, it is going to earn me a living"
   ]
  },
  {
   "cell_type": "markdown",
   "metadata": {},
   "source": [
    "keras uses theano/mxnet/tensorflow backends"
   ]
  },
  {
   "cell_type": "markdown",
   "metadata": {},
   "source": [
    "# Using keras to build first neural network"
   ]
  },
  {
   "cell_type": "markdown",
   "metadata": {},
   "source": [
    "## An image classifier on fashion mnist"
   ]
  },
  {
   "cell_type": "code",
   "execution_count": 2,
   "metadata": {},
   "outputs": [],
   "source": [
    "import tensorflow as tf\n",
    "from tensorflow import keras\n",
    "import numpy as np\n",
    "import matplotlib.pyplot as plt\n",
    "import pandas as pd"
   ]
  },
  {
   "cell_type": "markdown",
   "metadata": {},
   "source": [
    "### Dataset collection and preprocessing"
   ]
  },
  {
   "cell_type": "code",
   "execution_count": 3,
   "metadata": {},
   "outputs": [],
   "source": [
    "fashion_mnist = keras.datasets.fashion_mnist"
   ]
  },
  {
   "cell_type": "code",
   "execution_count": 4,
   "metadata": {},
   "outputs": [],
   "source": [
    "(X_train,y_train),(X_test,y_test) = fashion_mnist.load_data()"
   ]
  },
  {
   "cell_type": "code",
   "execution_count": 5,
   "metadata": {},
   "outputs": [],
   "source": [
    "# creating validation sets and scaling\n",
    "X_valid = X_train[:5000]/255\n",
    "X_train = X_train[5000:]/255\n",
    "y_valid = y_train[:5000]\n",
    "y_train = y_train[5000:]"
   ]
  },
  {
   "cell_type": "markdown",
   "metadata": {},
   "source": [
    "### Model building"
   ]
  },
  {
   "cell_type": "code",
   "execution_count": 6,
   "metadata": {},
   "outputs": [],
   "source": [
    "model = keras.models.Sequential()"
   ]
  },
  {
   "cell_type": "code",
   "execution_count": 7,
   "metadata": {},
   "outputs": [],
   "source": [
    "model.add(keras.layers.Flatten(input_shape=(28,28)))\n",
    "model.add(keras.layers.Dense(units=300,activation='relu'))\n",
    "model.add(keras.layers.Dense(units=100,activation='relu'))\n",
    "model.add(keras.layers.Dense(units=10,activation='softmax'))"
   ]
  },
  {
   "cell_type": "markdown",
   "metadata": {},
   "source": [
    "### Layers "
   ]
  },
  {
   "cell_type": "markdown",
   "metadata": {},
   "source": [
    "1. <b>Flatten</b> - reshapes the 2d array into 1d array (-1,1) (vertical)<br>\n",
    "Does not have any parameters except input shape<br>\n",
    "Alternative - keras.layers.InputLayer"
   ]
  },
  {
   "cell_type": "markdown",
   "metadata": {},
   "source": [
    "2. <b>Dense</b> - hidden layer with 300 neurons & ReLU activation<br>"
   ]
  },
  {
   "cell_type": "markdown",
   "metadata": {},
   "source": [
    "3. <b>Dense</b> - hidden layer with 100 neurons & ReLU activation<br>"
   ]
  },
  {
   "cell_type": "markdown",
   "metadata": {},
   "source": [
    "4. <b>Dense</b> - final output layer with 10 neurons & softmax activation<br>"
   ]
  },
  {
   "cell_type": "markdown",
   "metadata": {},
   "source": [
    "### Check model summary"
   ]
  },
  {
   "cell_type": "code",
   "execution_count": 8,
   "metadata": {},
   "outputs": [
    {
     "name": "stdout",
     "output_type": "stream",
     "text": [
      "Model: \"sequential\"\n",
      "_________________________________________________________________\n",
      "Layer (type)                 Output Shape              Param #   \n",
      "=================================================================\n",
      "flatten (Flatten)            (None, 784)               0         \n",
      "_________________________________________________________________\n",
      "dense (Dense)                (None, 300)               235500    \n",
      "_________________________________________________________________\n",
      "dense_1 (Dense)              (None, 100)               30100     \n",
      "_________________________________________________________________\n",
      "dense_2 (Dense)              (None, 10)                1010      \n",
      "=================================================================\n",
      "Total params: 266,610\n",
      "Trainable params: 266,610\n",
      "Non-trainable params: 0\n",
      "_________________________________________________________________\n"
     ]
    }
   ],
   "source": [
    "model.summary()"
   ]
  },
  {
   "cell_type": "markdown",
   "metadata": {},
   "source": [
    "### Check layers"
   ]
  },
  {
   "cell_type": "code",
   "execution_count": 9,
   "metadata": {},
   "outputs": [
    {
     "data": {
      "text/plain": [
       "[<tensorflow.python.keras.layers.core.Flatten at 0x1faa7f70700>,\n",
       " <tensorflow.python.keras.layers.core.Dense at 0x1faa7f70670>,\n",
       " <tensorflow.python.keras.layers.core.Dense at 0x1faa4f7d820>,\n",
       " <tensorflow.python.keras.layers.core.Dense at 0x1faa80ffbb0>]"
      ]
     },
     "execution_count": 9,
     "metadata": {},
     "output_type": "execute_result"
    }
   ],
   "source": [
    "model.layers"
   ]
  },
  {
   "cell_type": "markdown",
   "metadata": {},
   "source": [
    "### Compile the model"
   ]
  },
  {
   "cell_type": "code",
   "execution_count": 10,
   "metadata": {},
   "outputs": [],
   "source": [
    "model.compile(loss='sparse_categorical_crossentropy',\n",
    "             optimizer='sgd',\n",
    "             metrics=['accuracy'])"
   ]
  },
  {
   "cell_type": "markdown",
   "metadata": {},
   "source": [
    "### Fit the model to train"
   ]
  },
  {
   "cell_type": "code",
   "execution_count": 11,
   "metadata": {
    "scrolled": true
   },
   "outputs": [
    {
     "name": "stdout",
     "output_type": "stream",
     "text": [
      "Epoch 1/50\n",
      "1719/1719 [==============================] - 4s 2ms/step - loss: 0.7217 - accuracy: 0.7611 - val_loss: 0.5443 - val_accuracy: 0.8172\n",
      "Epoch 2/50\n",
      "1719/1719 [==============================] - 4s 2ms/step - loss: 0.4910 - accuracy: 0.8282 - val_loss: 0.4480 - val_accuracy: 0.8476\n",
      "Epoch 3/50\n",
      "1719/1719 [==============================] - 4s 2ms/step - loss: 0.4475 - accuracy: 0.8432 - val_loss: 0.4780 - val_accuracy: 0.8298\n",
      "Epoch 4/50\n",
      "1719/1719 [==============================] - 4s 2ms/step - loss: 0.4211 - accuracy: 0.8514 - val_loss: 0.4026 - val_accuracy: 0.8634\n",
      "Epoch 5/50\n",
      "1719/1719 [==============================] - 4s 2ms/step - loss: 0.3998 - accuracy: 0.8593 - val_loss: 0.3885 - val_accuracy: 0.8644\n",
      "Epoch 6/50\n",
      "1719/1719 [==============================] - 4s 2ms/step - loss: 0.3853 - accuracy: 0.8633 - val_loss: 0.3694 - val_accuracy: 0.8716\n",
      "Epoch 7/50\n",
      "1719/1719 [==============================] - 4s 2ms/step - loss: 0.3692 - accuracy: 0.8692 - val_loss: 0.3805 - val_accuracy: 0.8614\n",
      "Epoch 8/50\n",
      "1719/1719 [==============================] - 4s 2ms/step - loss: 0.3581 - accuracy: 0.8730 - val_loss: 0.3673 - val_accuracy: 0.8738\n",
      "Epoch 9/50\n",
      "1719/1719 [==============================] - 4s 2ms/step - loss: 0.3485 - accuracy: 0.8755 - val_loss: 0.3506 - val_accuracy: 0.8780\n",
      "Epoch 10/50\n",
      "1719/1719 [==============================] - 4s 2ms/step - loss: 0.3378 - accuracy: 0.8793 - val_loss: 0.3600 - val_accuracy: 0.8760\n",
      "Epoch 11/50\n",
      "1719/1719 [==============================] - 4s 2ms/step - loss: 0.3290 - accuracy: 0.8828 - val_loss: 0.3439 - val_accuracy: 0.8770\n",
      "Epoch 12/50\n",
      "1719/1719 [==============================] - 4s 2ms/step - loss: 0.3208 - accuracy: 0.8851 - val_loss: 0.3402 - val_accuracy: 0.8792\n",
      "Epoch 13/50\n",
      "1719/1719 [==============================] - 4s 2ms/step - loss: 0.3136 - accuracy: 0.8869 - val_loss: 0.3422 - val_accuracy: 0.8796\n",
      "Epoch 14/50\n",
      "1719/1719 [==============================] - 4s 2ms/step - loss: 0.3064 - accuracy: 0.8899 - val_loss: 0.3385 - val_accuracy: 0.8772\n",
      "Epoch 15/50\n",
      "1719/1719 [==============================] - 4s 2ms/step - loss: 0.3007 - accuracy: 0.8916 - val_loss: 0.3181 - val_accuracy: 0.8878\n",
      "Epoch 16/50\n",
      "1719/1719 [==============================] - 4s 2ms/step - loss: 0.2936 - accuracy: 0.8959 - val_loss: 0.3693 - val_accuracy: 0.8720\n",
      "Epoch 17/50\n",
      "1719/1719 [==============================] - 5s 3ms/step - loss: 0.2886 - accuracy: 0.8966 - val_loss: 0.3147 - val_accuracy: 0.8876\n",
      "Epoch 18/50\n",
      "1719/1719 [==============================] - 4s 2ms/step - loss: 0.2830 - accuracy: 0.8980 - val_loss: 0.3228 - val_accuracy: 0.8838\n",
      "Epoch 19/50\n",
      "1719/1719 [==============================] - 4s 2ms/step - loss: 0.2778 - accuracy: 0.9001 - val_loss: 0.3317 - val_accuracy: 0.8782\n",
      "Epoch 20/50\n",
      "1719/1719 [==============================] - 4s 2ms/step - loss: 0.2719 - accuracy: 0.9025 - val_loss: 0.3164 - val_accuracy: 0.8824\n",
      "Epoch 21/50\n",
      "1719/1719 [==============================] - 3s 2ms/step - loss: 0.2673 - accuracy: 0.9041 - val_loss: 0.3140 - val_accuracy: 0.8860\n",
      "Epoch 22/50\n",
      "1719/1719 [==============================] - 4s 2ms/step - loss: 0.2621 - accuracy: 0.9060 - val_loss: 0.3102 - val_accuracy: 0.8864\n",
      "Epoch 23/50\n",
      "1719/1719 [==============================] - 3s 2ms/step - loss: 0.2581 - accuracy: 0.9061 - val_loss: 0.3011 - val_accuracy: 0.8872\n",
      "Epoch 24/50\n",
      "1719/1719 [==============================] - 3s 2ms/step - loss: 0.2531 - accuracy: 0.9093 - val_loss: 0.3014 - val_accuracy: 0.8916\n",
      "Epoch 25/50\n",
      "1719/1719 [==============================] - 3s 2ms/step - loss: 0.2497 - accuracy: 0.9099 - val_loss: 0.3034 - val_accuracy: 0.8924\n",
      "Epoch 26/50\n",
      "1719/1719 [==============================] - 4s 2ms/step - loss: 0.2445 - accuracy: 0.9116 - val_loss: 0.3090 - val_accuracy: 0.8872\n",
      "Epoch 27/50\n",
      "1719/1719 [==============================] - 4s 2ms/step - loss: 0.2415 - accuracy: 0.9140 - val_loss: 0.3126 - val_accuracy: 0.8814\n",
      "Epoch 28/50\n",
      "1719/1719 [==============================] - 4s 2ms/step - loss: 0.2360 - accuracy: 0.9159 - val_loss: 0.2917 - val_accuracy: 0.8994\n",
      "Epoch 29/50\n",
      "1719/1719 [==============================] - 4s 2ms/step - loss: 0.2326 - accuracy: 0.9163 - val_loss: 0.3101 - val_accuracy: 0.8852\n",
      "Epoch 30/50\n",
      "1719/1719 [==============================] - 4s 2ms/step - loss: 0.2294 - accuracy: 0.9167 - val_loss: 0.2920 - val_accuracy: 0.8950\n",
      "Epoch 31/50\n",
      "1719/1719 [==============================] - 4s 2ms/step - loss: 0.2259 - accuracy: 0.9185 - val_loss: 0.3031 - val_accuracy: 0.8908\n",
      "Epoch 32/50\n",
      "1719/1719 [==============================] - 4s 2ms/step - loss: 0.2222 - accuracy: 0.9195 - val_loss: 0.2995 - val_accuracy: 0.8884\n",
      "Epoch 33/50\n",
      "1719/1719 [==============================] - 4s 3ms/step - loss: 0.2177 - accuracy: 0.9212 - val_loss: 0.3101 - val_accuracy: 0.8878\n",
      "Epoch 34/50\n",
      "1719/1719 [==============================] - 4s 2ms/step - loss: 0.2144 - accuracy: 0.9235 - val_loss: 0.2955 - val_accuracy: 0.8926\n",
      "Epoch 35/50\n",
      "1719/1719 [==============================] - 4s 2ms/step - loss: 0.2116 - accuracy: 0.9242 - val_loss: 0.2921 - val_accuracy: 0.8914\n",
      "Epoch 36/50\n",
      "1719/1719 [==============================] - 4s 2ms/step - loss: 0.2070 - accuracy: 0.9255 - val_loss: 0.2963 - val_accuracy: 0.8910\n",
      "Epoch 37/50\n",
      "1719/1719 [==============================] - 4s 2ms/step - loss: 0.2046 - accuracy: 0.9264 - val_loss: 0.2969 - val_accuracy: 0.8918\n",
      "Epoch 38/50\n",
      "1719/1719 [==============================] - 4s 2ms/step - loss: 0.2009 - accuracy: 0.9267 - val_loss: 0.2895 - val_accuracy: 0.8942\n",
      "Epoch 39/50\n",
      "1719/1719 [==============================] - 4s 2ms/step - loss: 0.1976 - accuracy: 0.9290 - val_loss: 0.3036 - val_accuracy: 0.8900\n",
      "Epoch 40/50\n",
      "1719/1719 [==============================] - 4s 2ms/step - loss: 0.1956 - accuracy: 0.9296 - val_loss: 0.3029 - val_accuracy: 0.8912\n",
      "Epoch 41/50\n",
      "1719/1719 [==============================] - 4s 2ms/step - loss: 0.1921 - accuracy: 0.9308 - val_loss: 0.2920 - val_accuracy: 0.8936\n",
      "Epoch 42/50\n",
      "1719/1719 [==============================] - 4s 2ms/step - loss: 0.1900 - accuracy: 0.9321 - val_loss: 0.3252 - val_accuracy: 0.8816\n",
      "Epoch 43/50\n",
      "1719/1719 [==============================] - 4s 2ms/step - loss: 0.1863 - accuracy: 0.9335 - val_loss: 0.3022 - val_accuracy: 0.8860\n",
      "Epoch 44/50\n",
      "1719/1719 [==============================] - 4s 2ms/step - loss: 0.1829 - accuracy: 0.9349 - val_loss: 0.2924 - val_accuracy: 0.8952\n",
      "Epoch 45/50\n",
      "1719/1719 [==============================] - 4s 2ms/step - loss: 0.1809 - accuracy: 0.9349 - val_loss: 0.3057 - val_accuracy: 0.8888\n",
      "Epoch 46/50\n",
      "1719/1719 [==============================] - 4s 2ms/step - loss: 0.1777 - accuracy: 0.9362 - val_loss: 0.3109 - val_accuracy: 0.8906\n",
      "Epoch 47/50\n",
      "1719/1719 [==============================] - 4s 2ms/step - loss: 0.1742 - accuracy: 0.9374 - val_loss: 0.3258 - val_accuracy: 0.8804\n",
      "Epoch 48/50\n",
      "1719/1719 [==============================] - 4s 2ms/step - loss: 0.1725 - accuracy: 0.9388 - val_loss: 0.3117 - val_accuracy: 0.8898\n",
      "Epoch 49/50\n",
      "1719/1719 [==============================] - 4s 2ms/step - loss: 0.1702 - accuracy: 0.9390 - val_loss: 0.2970 - val_accuracy: 0.8904\n",
      "Epoch 50/50\n",
      "1719/1719 [==============================] - 4s 2ms/step - loss: 0.1676 - accuracy: 0.9401 - val_loss: 0.3053 - val_accuracy: 0.8916\n"
     ]
    }
   ],
   "source": [
    "history = model.fit(X_train, y_train, epochs=50,\n",
    "                   validation_data=(X_valid,y_valid))"
   ]
  },
  {
   "cell_type": "markdown",
   "metadata": {},
   "source": [
    "### Visualize Learning curves"
   ]
  },
  {
   "cell_type": "code",
   "execution_count": 12,
   "metadata": {},
   "outputs": [
    {
     "data": {
      "image/png": "[encoded data removed]",
      "text/plain": [
       "<Figure size 432x288 with 1 Axes>"
      ]
     },
     "metadata": {
      "needs_background": "light"
     },
     "output_type": "display_data"
    }
   ],
   "source": [
    "pd.DataFrame(history.history).plot()\n",
    "plt.grid()\n",
    "plt.gca().set_ylim(0,1)\n",
    "plt.show()"
   ]
  },
  {
   "cell_type": "markdown",
   "metadata": {},
   "source": [
    "### Save Model"
   ]
  },
  {
   "cell_type": "code",
   "execution_count": 14,
   "metadata": {},
   "outputs": [
    {
     "name": "stdout",
     "output_type": "stream",
     "text": [
      "WARNING:tensorflow:From C:\\Users\\surie\\anaconda3\\lib\\site-packages\\tensorflow\\python\\training\\tracking\\tracking.py:111: Model.state_updates (from tensorflow.python.keras.engine.training) is deprecated and will be removed in a future version.\n",
      "Instructions for updating:\n",
      "This property should not be used in TensorFlow 2.0, as updates are applied automatically.\n",
      "WARNING:tensorflow:From C:\\Users\\surie\\anaconda3\\lib\\site-packages\\tensorflow\\python\\training\\tracking\\tracking.py:111: Layer.updates (from tensorflow.python.keras.engine.base_layer) is deprecated and will be removed in a future version.\n",
      "Instructions for updating:\n",
      "This property should not be used in TensorFlow 2.0, as updates are applied automatically.\n",
      "INFO:tensorflow:Assets written to: my_model_A\\assets\n"
     ]
    }
   ],
   "source": [
    "model.save('my_model_A')"
   ]
  },
  {
   "cell_type": "markdown",
   "metadata": {},
   "source": [
    "### Evaluate model"
   ]
  },
  {
   "cell_type": "markdown",
   "metadata": {},
   "source": [
    "returns loss, accuracy"
   ]
  },
  {
   "cell_type": "code",
   "execution_count": 13,
   "metadata": {},
   "outputs": [
    {
     "name": "stdout",
     "output_type": "stream",
     "text": [
      "313/313 [==============================] - 1s 2ms/step - loss: 81.1378 - accuracy: 0.8365\n"
     ]
    },
    {
     "data": {
      "text/plain": [
       "[81.1378402709961, 0.8364999890327454]"
      ]
     },
     "execution_count": 13,
     "metadata": {},
     "output_type": "execute_result"
    }
   ],
   "source": [
    "model.evaluate(X_test,y_test)"
   ]
  },
  {
   "cell_type": "markdown",
   "metadata": {},
   "source": [
    "### Predictions"
   ]
  },
  {
   "cell_type": "code",
   "execution_count": 59,
   "metadata": {},
   "outputs": [],
   "source": [
    "X_new = X_test[3]"
   ]
  },
  {
   "cell_type": "code",
   "execution_count": 60,
   "metadata": {},
   "outputs": [
    {
     "data": {
      "text/plain": [
       "(28, 28)"
      ]
     },
     "execution_count": 60,
     "metadata": {},
     "output_type": "execute_result"
    }
   ],
   "source": [
    "X_new.shape"
   ]
  },
  {
   "cell_type": "code",
   "execution_count": 64,
   "metadata": {},
   "outputs": [],
   "source": [
    "X_new = X_new.reshape(1,28,28)"
   ]
  },
  {
   "cell_type": "code",
   "execution_count": 65,
   "metadata": {},
   "outputs": [
    {
     "data": {
      "text/plain": [
       "(1, 28, 28)"
      ]
     },
     "execution_count": 65,
     "metadata": {},
     "output_type": "execute_result"
    }
   ],
   "source": [
    "X_new.shape"
   ]
  },
  {
   "cell_type": "code",
   "execution_count": 66,
   "metadata": {},
   "outputs": [],
   "source": [
    "y_proba = model.predict(np.array(X_new))"
   ]
  },
  {
   "cell_type": "code",
   "execution_count": 67,
   "metadata": {},
   "outputs": [
    {
     "data": {
      "text/plain": [
       "array([[0., 1., 0., 0., 0., 0., 0., 0., 0., 0.]], dtype=float32)"
      ]
     },
     "execution_count": 67,
     "metadata": {},
     "output_type": "execute_result"
    }
   ],
   "source": [
    "y_proba.round(2)"
   ]
  },
  {
   "cell_type": "code",
   "execution_count": 69,
   "metadata": {},
   "outputs": [
    {
     "data": {
      "text/plain": [
       "1"
      ]
     },
     "execution_count": 69,
     "metadata": {},
     "output_type": "execute_result"
    }
   ],
   "source": [
    "np.argmax(model.predict(X_new))"
   ]
  },
  {
   "cell_type": "markdown",
   "metadata": {},
   "source": [
    "## Regression MLP on CA housing"
   ]
  },
  {
   "cell_type": "markdown",
   "metadata": {},
   "source": [
    "one output unit with MSE as loss function"
   ]
  },
  {
   "cell_type": "code",
   "execution_count": 112,
   "metadata": {},
   "outputs": [],
   "source": [
    "from sklearn.datasets import fetch_california_housing\n",
    "from sklearn.model_selection import train_test_split\n",
    "from sklearn.preprocessing import StandardScaler"
   ]
  },
  {
   "cell_type": "code",
   "execution_count": 113,
   "metadata": {},
   "outputs": [],
   "source": [
    "housing = fetch_california_housing()"
   ]
  },
  {
   "cell_type": "code",
   "execution_count": 114,
   "metadata": {},
   "outputs": [],
   "source": [
    "X_train, X_test, y_train, y_test = train_test_split(housing.data,housing.target)"
   ]
  },
  {
   "cell_type": "code",
   "execution_count": 115,
   "metadata": {},
   "outputs": [],
   "source": [
    "X_train, X_valid, y_train, y_valid = train_test_split(X_train, y_train)"
   ]
  },
  {
   "cell_type": "code",
   "execution_count": 116,
   "metadata": {},
   "outputs": [
    {
     "data": {
      "text/plain": [
       "(8,)"
      ]
     },
     "execution_count": 116,
     "metadata": {},
     "output_type": "execute_result"
    }
   ],
   "source": [
    "X_train.shape[1:]"
   ]
  },
  {
   "cell_type": "markdown",
   "metadata": {},
   "source": [
    "### Feature Scaling"
   ]
  },
  {
   "cell_type": "code",
   "execution_count": 117,
   "metadata": {},
   "outputs": [],
   "source": [
    "scaler = StandardScaler()"
   ]
  },
  {
   "cell_type": "code",
   "execution_count": 118,
   "metadata": {},
   "outputs": [],
   "source": [
    "X_train_scaled = scaler.fit_transform(X_train)\n",
    "X_valid_scaled = scaler.transform(X_valid)\n",
    "X_test_scaled = scaler.transform(X_test)"
   ]
  },
  {
   "cell_type": "code",
   "execution_count": 127,
   "metadata": {},
   "outputs": [],
   "source": [
    "model = keras.models.Sequential([\n",
    "    keras.layers.Dense(units=30,activation='relu',input_shape=(8,)),\n",
    "    keras.layers.Dense(units=1)\n",
    "])"
   ]
  },
  {
   "cell_type": "code",
   "execution_count": 128,
   "metadata": {},
   "outputs": [],
   "source": [
    "model.compile(loss='mean_squared_error',optimizer='sgd')"
   ]
  },
  {
   "cell_type": "code",
   "execution_count": 129,
   "metadata": {
    "scrolled": true
   },
   "outputs": [
    {
     "name": "stdout",
     "output_type": "stream",
     "text": [
      "Epoch 1/20\n",
      "363/363 [==============================] - 0s 1ms/step - loss: 0.7750 - val_loss: 1.0146\n",
      "Epoch 2/20\n",
      "363/363 [==============================] - 0s 1ms/step - loss: 2.3144 - val_loss: 2.8362\n",
      "Epoch 3/20\n",
      "363/363 [==============================] - 0s 976us/step - loss: 2.9549 - val_loss: 1.1161\n",
      "Epoch 4/20\n",
      "363/363 [==============================] - 0s 966us/step - loss: 0.4723 - val_loss: 0.5462\n",
      "Epoch 5/20\n",
      "363/363 [==============================] - 0s 1ms/step - loss: 0.4319 - val_loss: 0.5543\n",
      "Epoch 6/20\n",
      "363/363 [==============================] - 0s 1ms/step - loss: 0.4211 - val_loss: 0.6061\n",
      "Epoch 7/20\n",
      "363/363 [==============================] - 0s 967us/step - loss: 0.4001 - val_loss: 0.4580\n",
      "Epoch 8/20\n",
      "363/363 [==============================] - 0s 1ms/step - loss: 0.3913 - val_loss: 0.4968\n",
      "Epoch 9/20\n",
      "363/363 [==============================] - 0s 1ms/step - loss: 0.3844 - val_loss: 0.5188\n",
      "Epoch 10/20\n",
      "363/363 [==============================] - 0s 983us/step - loss: 0.3760 - val_loss: 0.5538\n",
      "Epoch 11/20\n",
      "363/363 [==============================] - 0s 968us/step - loss: 0.3705 - val_loss: 0.5006\n",
      "Epoch 12/20\n",
      "363/363 [==============================] - 0s 1ms/step - loss: 0.3689 - val_loss: 0.5503\n",
      "Epoch 13/20\n",
      "363/363 [==============================] - 0s 1ms/step - loss: 0.3653 - val_loss: 0.6139\n",
      "Epoch 14/20\n",
      "363/363 [==============================] - 0s 991us/step - loss: 0.3608 - val_loss: 0.4821\n",
      "Epoch 15/20\n",
      "363/363 [==============================] - 0s 1ms/step - loss: 0.3598 - val_loss: 0.5029\n",
      "Epoch 16/20\n",
      "363/363 [==============================] - 0s 1ms/step - loss: 0.3566 - val_loss: 0.4859\n",
      "Epoch 17/20\n",
      "363/363 [==============================] - 1s 1ms/step - loss: 0.3565 - val_loss: 0.5168\n",
      "Epoch 18/20\n",
      "363/363 [==============================] - 0s 997us/step - loss: 0.3522 - val_loss: 0.5376\n",
      "Epoch 19/20\n",
      "363/363 [==============================] - 0s 968us/step - loss: 0.3514 - val_loss: 0.5260\n",
      "Epoch 20/20\n",
      "363/363 [==============================] - 0s 1ms/step - loss: 0.3493 - val_loss: 0.5187\n"
     ]
    }
   ],
   "source": [
    "history = model.fit(X_train_scaled,y_train, epochs=20,\n",
    "                   validation_data=(X_valid_scaled,y_valid))"
   ]
  },
  {
   "cell_type": "code",
   "execution_count": 130,
   "metadata": {},
   "outputs": [
    {
     "data": {
      "text/plain": [
       "(0.0, 1.0)"
      ]
     },
     "execution_count": 130,
     "metadata": {},
     "output_type": "execute_result"
    },
    {
     "data": {
      "image/png": "[encoded data removed]",
      "text/plain": [
       "<Figure size 432x288 with 1 Axes>"
      ]
     },
     "metadata": {
      "needs_background": "light"
     },
     "output_type": "display_data"
    }
   ],
   "source": [
    "pd.DataFrame(history.history).plot()\n",
    "plt.grid()\n",
    "plt.gca().set_ylim(0,1)"
   ]
  },
  {
   "cell_type": "markdown",
   "metadata": {},
   "source": [
    "Follow some other tutorial this is dumb example, accuracy does not increase, does not work"
   ]
  }
 ],
 "metadata": {
  "kernelspec": {
   "display_name": "Python 3",
   "language": "python",
   "name": "python3"
  },
  "language_info": {
   "codemirror_mode": {
    "name": "ipython",
    "version": 3
   },
   "file_extension": ".py",
   "mimetype": "text/x-python",
   "name": "python",
   "nbconvert_exporter": "python",
   "pygments_lexer": "ipython3",
   "version": "3.8.3"
  }
 },
 "nbformat": 4,
 "nbformat_minor": 4
}
