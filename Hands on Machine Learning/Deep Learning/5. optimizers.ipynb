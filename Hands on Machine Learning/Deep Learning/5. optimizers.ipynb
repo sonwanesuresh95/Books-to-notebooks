{
 "cells": [
  {
   "cell_type": "code",
   "execution_count": 37,
   "metadata": {},
   "outputs": [],
   "source": [
    "import tensorflow as tf\n",
    "import numpy as np\n",
    "import matplotlib.pyplot as plt\n",
    "from tensorflow import keras\n",
    "import pandas as pd"
   ]
  },
  {
   "cell_type": "markdown",
   "metadata": {},
   "source": [
    "# Optimizers in Deep Neural Networks"
   ]
  },
  {
   "cell_type": "markdown",
   "metadata": {},
   "source": [
    "Load Fashion MNIST and check for every optimizer"
   ]
  },
  {
   "cell_type": "code",
   "execution_count": 42,
   "metadata": {},
   "outputs": [],
   "source": [
    "opts = ['sgd','momentum','nesterov','rmsprop','adam']\n",
    "losses = []\n",
    "accuracies = []"
   ]
  },
  {
   "cell_type": "code",
   "execution_count": 3,
   "metadata": {},
   "outputs": [],
   "source": [
    "(X_train,y_train), (X_test,y_test) = keras.datasets.fashion_mnist.load_data()"
   ]
  },
  {
   "cell_type": "code",
   "execution_count": 4,
   "metadata": {},
   "outputs": [],
   "source": [
    "# creating validation sets and scaling\n",
    "X_valid = X_train[:5000]/255\n",
    "X_train = X_train[5000:]/255\n",
    "y_valid = y_train[:5000]\n",
    "y_train = y_train[5000:]"
   ]
  },
  {
   "cell_type": "markdown",
   "metadata": {},
   "source": [
    "## SGD"
   ]
  },
  {
   "cell_type": "code",
   "execution_count": 5,
   "metadata": {},
   "outputs": [],
   "source": [
    "sgd_optimizer = keras.optimizers.SGD(learning_rate=0.001)"
   ]
  },
  {
   "cell_type": "code",
   "execution_count": 6,
   "metadata": {},
   "outputs": [],
   "source": [
    "model = keras.models.Sequential([\n",
    "    keras.layers.Flatten(input_shape=(28,28)),\n",
    "    keras.layers.Dense(units=300,activation='relu'),\n",
    "    keras.layers.Dense(units=100,activation='relu'),\n",
    "    keras.layers.Dense(units=10,activation='softmax')\n",
    "])"
   ]
  },
  {
   "cell_type": "code",
   "execution_count": 7,
   "metadata": {},
   "outputs": [],
   "source": [
    "model.compile(loss='sparse_categorical_crossentropy',optimizer=sgd_optimizer,metrics=['accuracy'])"
   ]
  },
  {
   "cell_type": "code",
   "execution_count": 8,
   "metadata": {
    "scrolled": true
   },
   "outputs": [
    {
     "name": "stdout",
     "output_type": "stream",
     "text": [
      "Epoch 1/50\n",
      "1719/1719 [==============================] - 5s 3ms/step - loss: 1.4135 - accuracy: 0.5918 - val_loss: 0.9502 - val_accuracy: 0.7036\n",
      "Epoch 2/50\n",
      "1719/1719 [==============================] - 4s 2ms/step - loss: 0.8442 - accuracy: 0.7288 - val_loss: 0.7448 - val_accuracy: 0.7574\n",
      "Epoch 3/50\n",
      "1719/1719 [==============================] - 3s 2ms/step - loss: 0.7130 - accuracy: 0.7692 - val_loss: 0.6593 - val_accuracy: 0.7872\n",
      "Epoch 4/50\n",
      "1719/1719 [==============================] - 3s 2ms/step - loss: 0.6441 - accuracy: 0.7917 - val_loss: 0.6058 - val_accuracy: 0.8018\n",
      "Epoch 5/50\n",
      "1719/1719 [==============================] - 3s 2ms/step - loss: 0.5992 - accuracy: 0.8030 - val_loss: 0.5691 - val_accuracy: 0.8146\n",
      "Epoch 6/50\n",
      "1719/1719 [==============================] - 4s 2ms/step - loss: 0.5675 - accuracy: 0.8131 - val_loss: 0.5440 - val_accuracy: 0.8262\n",
      "Epoch 7/50\n",
      "1719/1719 [==============================] - 3s 2ms/step - loss: 0.5444 - accuracy: 0.8190 - val_loss: 0.5226 - val_accuracy: 0.8308\n",
      "Epoch 8/50\n",
      "1719/1719 [==============================] - 3s 2ms/step - loss: 0.5260 - accuracy: 0.8231 - val_loss: 0.5103 - val_accuracy: 0.8328\n",
      "Epoch 9/50\n",
      "1719/1719 [==============================] - 3s 2ms/step - loss: 0.5115 - accuracy: 0.8272 - val_loss: 0.4962 - val_accuracy: 0.8342\n",
      "Epoch 10/50\n",
      "1719/1719 [==============================] - 3s 2ms/step - loss: 0.4993 - accuracy: 0.8302 - val_loss: 0.4843 - val_accuracy: 0.8394\n",
      "Epoch 11/50\n",
      "1719/1719 [==============================] - 4s 2ms/step - loss: 0.4890 - accuracy: 0.8337 - val_loss: 0.4775 - val_accuracy: 0.8408\n",
      "Epoch 12/50\n",
      "1719/1719 [==============================] - 5s 3ms/step - loss: 0.4801 - accuracy: 0.8359 - val_loss: 0.4702 - val_accuracy: 0.8430\n",
      "Epoch 13/50\n",
      "1719/1719 [==============================] - 4s 2ms/step - loss: 0.4723 - accuracy: 0.8379 - val_loss: 0.4614 - val_accuracy: 0.8476\n",
      "Epoch 14/50\n",
      "1719/1719 [==============================] - 4s 3ms/step - loss: 0.4653 - accuracy: 0.8397 - val_loss: 0.4536 - val_accuracy: 0.8484\n",
      "Epoch 15/50\n",
      "1719/1719 [==============================] - 4s 2ms/step - loss: 0.4586 - accuracy: 0.8423 - val_loss: 0.4490 - val_accuracy: 0.8488\n",
      "Epoch 16/50\n",
      "1719/1719 [==============================] - 4s 2ms/step - loss: 0.4530 - accuracy: 0.8441 - val_loss: 0.4445 - val_accuracy: 0.8506\n",
      "Epoch 17/50\n",
      "1719/1719 [==============================] - 4s 2ms/step - loss: 0.4480 - accuracy: 0.8459 - val_loss: 0.4445 - val_accuracy: 0.8496\n",
      "Epoch 18/50\n",
      "1719/1719 [==============================] - 4s 2ms/step - loss: 0.4428 - accuracy: 0.8464 - val_loss: 0.4372 - val_accuracy: 0.8534\n",
      "Epoch 19/50\n",
      "1719/1719 [==============================] - 4s 2ms/step - loss: 0.4381 - accuracy: 0.8491 - val_loss: 0.4317 - val_accuracy: 0.8528\n",
      "Epoch 20/50\n",
      "1719/1719 [==============================] - 4s 2ms/step - loss: 0.4341 - accuracy: 0.8504 - val_loss: 0.4268 - val_accuracy: 0.8556\n",
      "Epoch 21/50\n",
      "1719/1719 [==============================] - 3s 2ms/step - loss: 0.4301 - accuracy: 0.8516 - val_loss: 0.4234 - val_accuracy: 0.8550\n",
      "Epoch 22/50\n",
      "1719/1719 [==============================] - 3s 2ms/step - loss: 0.4261 - accuracy: 0.8521 - val_loss: 0.4206 - val_accuracy: 0.8584\n",
      "Epoch 23/50\n",
      "1719/1719 [==============================] - 3s 2ms/step - loss: 0.4224 - accuracy: 0.8534 - val_loss: 0.4176 - val_accuracy: 0.8594\n",
      "Epoch 24/50\n",
      "1719/1719 [==============================] - 3s 2ms/step - loss: 0.4189 - accuracy: 0.8551 - val_loss: 0.4184 - val_accuracy: 0.8614\n",
      "Epoch 25/50\n",
      "1719/1719 [==============================] - 3s 2ms/step - loss: 0.4159 - accuracy: 0.8566 - val_loss: 0.4096 - val_accuracy: 0.8624\n",
      "Epoch 26/50\n",
      "1719/1719 [==============================] - 4s 2ms/step - loss: 0.4130 - accuracy: 0.8573 - val_loss: 0.4105 - val_accuracy: 0.8610\n",
      "Epoch 27/50\n",
      "1719/1719 [==============================] - 3s 2ms/step - loss: 0.4098 - accuracy: 0.8580 - val_loss: 0.4079 - val_accuracy: 0.8618\n",
      "Epoch 28/50\n",
      "1719/1719 [==============================] - 4s 2ms/step - loss: 0.4073 - accuracy: 0.8593 - val_loss: 0.4090 - val_accuracy: 0.8598\n",
      "Epoch 29/50\n",
      "1719/1719 [==============================] - 4s 2ms/step - loss: 0.4044 - accuracy: 0.8610 - val_loss: 0.4010 - val_accuracy: 0.8626\n",
      "Epoch 30/50\n",
      "1719/1719 [==============================] - 3s 2ms/step - loss: 0.4020 - accuracy: 0.8612 - val_loss: 0.4014 - val_accuracy: 0.8642\n",
      "Epoch 31/50\n",
      "1719/1719 [==============================] - 3s 2ms/step - loss: 0.3994 - accuracy: 0.8615 - val_loss: 0.4005 - val_accuracy: 0.8640\n",
      "Epoch 32/50\n",
      "1719/1719 [==============================] - 3s 2ms/step - loss: 0.3967 - accuracy: 0.8619 - val_loss: 0.3999 - val_accuracy: 0.8648\n",
      "Epoch 33/50\n",
      "1719/1719 [==============================] - 3s 2ms/step - loss: 0.3943 - accuracy: 0.8637 - val_loss: 0.3947 - val_accuracy: 0.8654\n",
      "Epoch 34/50\n",
      "1719/1719 [==============================] - 3s 2ms/step - loss: 0.3922 - accuracy: 0.8644 - val_loss: 0.3917 - val_accuracy: 0.8670\n",
      "Epoch 35/50\n",
      "1719/1719 [==============================] - 3s 2ms/step - loss: 0.3897 - accuracy: 0.8649 - val_loss: 0.3967 - val_accuracy: 0.8640\n",
      "Epoch 36/50\n",
      "1719/1719 [==============================] - 4s 2ms/step - loss: 0.3878 - accuracy: 0.8658 - val_loss: 0.3931 - val_accuracy: 0.8676\n",
      "Epoch 37/50\n",
      "1719/1719 [==============================] - 3s 2ms/step - loss: 0.3856 - accuracy: 0.8664 - val_loss: 0.3867 - val_accuracy: 0.8688\n",
      "Epoch 38/50\n",
      "1719/1719 [==============================] - 3s 2ms/step - loss: 0.3835 - accuracy: 0.8671 - val_loss: 0.3857 - val_accuracy: 0.8674\n",
      "Epoch 39/50\n",
      "1719/1719 [==============================] - 3s 2ms/step - loss: 0.3815 - accuracy: 0.8685 - val_loss: 0.3842 - val_accuracy: 0.8676\n",
      "Epoch 40/50\n",
      "1719/1719 [==============================] - 4s 2ms/step - loss: 0.3798 - accuracy: 0.8684 - val_loss: 0.3831 - val_accuracy: 0.8692\n",
      "Epoch 41/50\n",
      "1719/1719 [==============================] - 3s 2ms/step - loss: 0.3777 - accuracy: 0.8695 - val_loss: 0.3858 - val_accuracy: 0.8684\n",
      "Epoch 42/50\n",
      "1719/1719 [==============================] - 4s 2ms/step - loss: 0.3758 - accuracy: 0.8696 - val_loss: 0.3810 - val_accuracy: 0.8698\n",
      "Epoch 43/50\n",
      "1719/1719 [==============================] - 4s 2ms/step - loss: 0.3740 - accuracy: 0.8701 - val_loss: 0.3783 - val_accuracy: 0.8712\n",
      "Epoch 44/50\n",
      "1719/1719 [==============================] - 4s 2ms/step - loss: 0.3722 - accuracy: 0.8715 - val_loss: 0.3799 - val_accuracy: 0.8706\n",
      "Epoch 45/50\n",
      "1719/1719 [==============================] - 4s 2ms/step - loss: 0.3707 - accuracy: 0.8715 - val_loss: 0.3761 - val_accuracy: 0.8700\n",
      "Epoch 46/50\n",
      "1719/1719 [==============================] - 4s 3ms/step - loss: 0.3691 - accuracy: 0.8725 - val_loss: 0.3739 - val_accuracy: 0.8724\n",
      "Epoch 47/50\n",
      "1719/1719 [==============================] - 4s 2ms/step - loss: 0.3674 - accuracy: 0.8728 - val_loss: 0.3725 - val_accuracy: 0.8716\n",
      "Epoch 48/50\n",
      "1719/1719 [==============================] - 4s 3ms/step - loss: 0.3656 - accuracy: 0.8729 - val_loss: 0.3752 - val_accuracy: 0.8716\n",
      "Epoch 49/50\n",
      "1719/1719 [==============================] - 4s 2ms/step - loss: 0.3641 - accuracy: 0.8736 - val_loss: 0.3737 - val_accuracy: 0.8708\n",
      "Epoch 50/50\n",
      "1719/1719 [==============================] - 4s 2ms/step - loss: 0.3626 - accuracy: 0.8738 - val_loss: 0.3712 - val_accuracy: 0.8728\n",
      "Wall time: 3min 6s\n"
     ]
    }
   ],
   "source": [
    "%time history = model.fit(X_train,y_train,epochs=50,validation_data=(X_valid,y_valid))"
   ]
  },
  {
   "cell_type": "code",
   "execution_count": 9,
   "metadata": {},
   "outputs": [
    {
     "name": "stdout",
     "output_type": "stream",
     "text": [
      "313/313 [==============================] - 1s 2ms/step - loss: 78.0400 - accuracy: 0.8156\n"
     ]
    },
    {
     "data": {
      "text/plain": [
       "[78.03997039794922, 0.8155999779701233]"
      ]
     },
     "execution_count": 9,
     "metadata": {},
     "output_type": "execute_result"
    }
   ],
   "source": [
    "model.evaluate(X_test,y_test)"
   ]
  },
  {
   "cell_type": "code",
   "execution_count": 11,
   "metadata": {},
   "outputs": [
    {
     "name": "stdout",
     "output_type": "stream",
     "text": [
      "313/313 [==============================] - 1s 2ms/step - loss: 78.0400 - accuracy: 0.8156\n",
      "313/313 [==============================] - 1s 2ms/step - loss: 78.0400 - accuracy: 0.8156\n"
     ]
    }
   ],
   "source": [
    "losses.append(model.evaluate(X_test,y_test)[0])\n",
    "accuracies.append(model.evaluate(X_test,y_test)[1])"
   ]
  },
  {
   "cell_type": "markdown",
   "metadata": {},
   "source": [
    "## SGD + Momentum Optimizer"
   ]
  },
  {
   "cell_type": "code",
   "execution_count": 12,
   "metadata": {},
   "outputs": [],
   "source": [
    "momentum_optimizer = keras.optimizers.SGD(learning_rate=0.001,momentum=0.9)"
   ]
  },
  {
   "cell_type": "code",
   "execution_count": 13,
   "metadata": {},
   "outputs": [],
   "source": [
    "model = keras.models.Sequential([\n",
    "    keras.layers.Flatten(input_shape=(28,28)),\n",
    "    keras.layers.Dense(units=300,activation='relu'),\n",
    "    keras.layers.Dense(units=100,activation='relu'),\n",
    "    keras.layers.Dense(units=10,activation='softmax')\n",
    "])"
   ]
  },
  {
   "cell_type": "code",
   "execution_count": 14,
   "metadata": {},
   "outputs": [],
   "source": [
    "model.compile(loss='sparse_categorical_crossentropy',optimizer=momentum_optimizer,metrics=['accuracy'])"
   ]
  },
  {
   "cell_type": "code",
   "execution_count": 15,
   "metadata": {
    "scrolled": true
   },
   "outputs": [
    {
     "name": "stdout",
     "output_type": "stream",
     "text": [
      "Epoch 1/50\n",
      "1719/1719 [==============================] - 5s 3ms/step - loss: 0.7271 - accuracy: 0.7634 - val_loss: 0.4950 - val_accuracy: 0.8354\n",
      "Epoch 2/50\n",
      "1719/1719 [==============================] - 4s 2ms/step - loss: 0.4781 - accuracy: 0.8341 - val_loss: 0.4355 - val_accuracy: 0.8510\n",
      "Epoch 3/50\n",
      "1719/1719 [==============================] - 4s 2ms/step - loss: 0.4354 - accuracy: 0.8475 - val_loss: 0.4133 - val_accuracy: 0.8626\n",
      "Epoch 4/50\n",
      "1719/1719 [==============================] - 4s 3ms/step - loss: 0.4109 - accuracy: 0.8557 - val_loss: 0.4051 - val_accuracy: 0.8648\n",
      "Epoch 5/50\n",
      "1719/1719 [==============================] - 4s 2ms/step - loss: 0.3910 - accuracy: 0.8632 - val_loss: 0.3742 - val_accuracy: 0.8734\n",
      "Epoch 6/50\n",
      "1719/1719 [==============================] - 4s 3ms/step - loss: 0.3749 - accuracy: 0.8693 - val_loss: 0.3725 - val_accuracy: 0.8712\n",
      "Epoch 7/50\n",
      "1719/1719 [==============================] - 5s 3ms/step - loss: 0.3652 - accuracy: 0.8713 - val_loss: 0.3655 - val_accuracy: 0.8740\n",
      "Epoch 8/50\n",
      "1719/1719 [==============================] - 4s 2ms/step - loss: 0.3520 - accuracy: 0.8769 - val_loss: 0.3504 - val_accuracy: 0.8786\n",
      "Epoch 9/50\n",
      "1719/1719 [==============================] - 4s 2ms/step - loss: 0.3418 - accuracy: 0.8785 - val_loss: 0.3558 - val_accuracy: 0.8746\n",
      "Epoch 10/50\n",
      "1719/1719 [==============================] - 4s 3ms/step - loss: 0.3324 - accuracy: 0.8831 - val_loss: 0.3452 - val_accuracy: 0.8754\n",
      "Epoch 11/50\n",
      "1719/1719 [==============================] - 5s 3ms/step - loss: 0.3257 - accuracy: 0.8833 - val_loss: 0.3311 - val_accuracy: 0.8866\n",
      "Epoch 12/50\n",
      "1719/1719 [==============================] - 5s 3ms/step - loss: 0.3154 - accuracy: 0.8883 - val_loss: 0.3308 - val_accuracy: 0.8866\n",
      "Epoch 13/50\n",
      "1719/1719 [==============================] - 5s 3ms/step - loss: 0.3096 - accuracy: 0.8892 - val_loss: 0.3269 - val_accuracy: 0.8808\n",
      "Epoch 14/50\n",
      "1719/1719 [==============================] - 4s 2ms/step - loss: 0.3028 - accuracy: 0.8921 - val_loss: 0.3416 - val_accuracy: 0.8702\n",
      "Epoch 15/50\n",
      "1719/1719 [==============================] - 4s 2ms/step - loss: 0.2960 - accuracy: 0.8936 - val_loss: 0.3161 - val_accuracy: 0.8890\n",
      "Epoch 16/50\n",
      "1719/1719 [==============================] - 4s 2ms/step - loss: 0.2891 - accuracy: 0.8952 - val_loss: 0.3197 - val_accuracy: 0.8886\n",
      "Epoch 17/50\n",
      "1719/1719 [==============================] - 5s 3ms/step - loss: 0.2841 - accuracy: 0.8988 - val_loss: 0.3259 - val_accuracy: 0.8806\n",
      "Epoch 18/50\n",
      "1719/1719 [==============================] - 4s 2ms/step - loss: 0.2786 - accuracy: 0.9000 - val_loss: 0.3342 - val_accuracy: 0.8784\n",
      "Epoch 19/50\n",
      "1719/1719 [==============================] - 4s 2ms/step - loss: 0.2740 - accuracy: 0.9011 - val_loss: 0.3098 - val_accuracy: 0.8886\n",
      "Epoch 20/50\n",
      "1719/1719 [==============================] - 4s 2ms/step - loss: 0.2683 - accuracy: 0.9037 - val_loss: 0.3165 - val_accuracy: 0.8878\n",
      "Epoch 21/50\n",
      "1719/1719 [==============================] - 5s 3ms/step - loss: 0.2638 - accuracy: 0.9050 - val_loss: 0.3123 - val_accuracy: 0.8896\n",
      "Epoch 22/50\n",
      "1719/1719 [==============================] - 5s 3ms/step - loss: 0.2590 - accuracy: 0.9066 - val_loss: 0.3246 - val_accuracy: 0.8816\n",
      "Epoch 23/50\n",
      "1719/1719 [==============================] - 4s 2ms/step - loss: 0.2545 - accuracy: 0.9085 - val_loss: 0.3049 - val_accuracy: 0.8948\n",
      "Epoch 24/50\n",
      "1719/1719 [==============================] - 4s 3ms/step - loss: 0.2505 - accuracy: 0.9097 - val_loss: 0.3062 - val_accuracy: 0.8882\n",
      "Epoch 25/50\n",
      "1719/1719 [==============================] - 5s 3ms/step - loss: 0.2461 - accuracy: 0.9109 - val_loss: 0.3047 - val_accuracy: 0.8886\n",
      "Epoch 26/50\n",
      "1719/1719 [==============================] - 5s 3ms/step - loss: 0.2404 - accuracy: 0.9136 - val_loss: 0.3009 - val_accuracy: 0.8922\n",
      "Epoch 27/50\n",
      "1719/1719 [==============================] - 5s 3ms/step - loss: 0.2366 - accuracy: 0.9147 - val_loss: 0.2953 - val_accuracy: 0.8940\n",
      "Epoch 28/50\n",
      "1719/1719 [==============================] - 4s 2ms/step - loss: 0.2330 - accuracy: 0.9166 - val_loss: 0.3059 - val_accuracy: 0.8900\n",
      "Epoch 29/50\n",
      "1719/1719 [==============================] - 4s 2ms/step - loss: 0.2301 - accuracy: 0.9167 - val_loss: 0.3021 - val_accuracy: 0.8924\n",
      "Epoch 30/50\n",
      "1719/1719 [==============================] - 4s 2ms/step - loss: 0.2255 - accuracy: 0.9196 - val_loss: 0.3085 - val_accuracy: 0.8856\n",
      "Epoch 31/50\n",
      "1719/1719 [==============================] - 4s 2ms/step - loss: 0.2225 - accuracy: 0.9212 - val_loss: 0.3048 - val_accuracy: 0.8926\n",
      "Epoch 32/50\n",
      "1719/1719 [==============================] - 4s 2ms/step - loss: 0.2174 - accuracy: 0.9221 - val_loss: 0.3092 - val_accuracy: 0.8854\n",
      "Epoch 33/50\n",
      "1719/1719 [==============================] - 4s 2ms/step - loss: 0.2140 - accuracy: 0.9231 - val_loss: 0.2858 - val_accuracy: 0.8974\n",
      "Epoch 34/50\n",
      "1719/1719 [==============================] - 4s 2ms/step - loss: 0.2105 - accuracy: 0.9255 - val_loss: 0.3017 - val_accuracy: 0.8956\n",
      "Epoch 35/50\n",
      "1719/1719 [==============================] - 4s 2ms/step - loss: 0.2091 - accuracy: 0.9253 - val_loss: 0.2986 - val_accuracy: 0.8932\n",
      "Epoch 36/50\n",
      "1719/1719 [==============================] - 4s 3ms/step - loss: 0.2062 - accuracy: 0.9261 - val_loss: 0.3026 - val_accuracy: 0.8928\n",
      "Epoch 37/50\n",
      "1719/1719 [==============================] - 4s 2ms/step - loss: 0.2013 - accuracy: 0.9282 - val_loss: 0.2989 - val_accuracy: 0.8904\n",
      "Epoch 38/50\n",
      "1719/1719 [==============================] - 4s 3ms/step - loss: 0.1986 - accuracy: 0.9293 - val_loss: 0.2992 - val_accuracy: 0.8926\n",
      "Epoch 39/50\n",
      "1719/1719 [==============================] - 4s 2ms/step - loss: 0.1954 - accuracy: 0.9307 - val_loss: 0.3102 - val_accuracy: 0.8914\n",
      "Epoch 40/50\n",
      "1719/1719 [==============================] - 4s 2ms/step - loss: 0.1925 - accuracy: 0.9308 - val_loss: 0.2888 - val_accuracy: 0.8930\n",
      "Epoch 41/50\n",
      "1719/1719 [==============================] - 5s 3ms/step - loss: 0.1882 - accuracy: 0.9334 - val_loss: 0.3028 - val_accuracy: 0.8932\n",
      "Epoch 42/50\n",
      "1719/1719 [==============================] - 5s 3ms/step - loss: 0.1874 - accuracy: 0.9330 - val_loss: 0.2999 - val_accuracy: 0.8898\n",
      "Epoch 43/50\n",
      "1719/1719 [==============================] - 4s 2ms/step - loss: 0.1844 - accuracy: 0.9343 - val_loss: 0.2870 - val_accuracy: 0.9008\n",
      "Epoch 44/50\n",
      "1719/1719 [==============================] - 4s 2ms/step - loss: 0.1798 - accuracy: 0.9354 - val_loss: 0.3130 - val_accuracy: 0.8876\n",
      "Epoch 45/50\n",
      "1719/1719 [==============================] - 4s 2ms/step - loss: 0.1777 - accuracy: 0.9364 - val_loss: 0.2970 - val_accuracy: 0.8940\n",
      "Epoch 46/50\n",
      "1719/1719 [==============================] - 4s 2ms/step - loss: 0.1745 - accuracy: 0.9376 - val_loss: 0.3004 - val_accuracy: 0.8930\n",
      "Epoch 47/50\n",
      "1719/1719 [==============================] - 4s 2ms/step - loss: 0.1732 - accuracy: 0.9381 - val_loss: 0.3000 - val_accuracy: 0.8946\n",
      "Epoch 48/50\n",
      "1719/1719 [==============================] - 4s 2ms/step - loss: 0.1704 - accuracy: 0.9394 - val_loss: 0.3140 - val_accuracy: 0.8890\n",
      "Epoch 49/50\n",
      "1719/1719 [==============================] - 4s 2ms/step - loss: 0.1670 - accuracy: 0.9404 - val_loss: 0.2969 - val_accuracy: 0.8916\n",
      "Epoch 50/50\n",
      "1719/1719 [==============================] - 4s 2ms/step - loss: 0.1634 - accuracy: 0.9416 - val_loss: 0.3106 - val_accuracy: 0.8960\n",
      "Wall time: 3min 35s\n"
     ]
    }
   ],
   "source": [
    "%time history = model.fit(X_train,y_train,epochs=50,validation_data=(X_valid,y_valid),verbose=1)"
   ]
  },
  {
   "cell_type": "code",
   "execution_count": 16,
   "metadata": {},
   "outputs": [
    {
     "name": "stdout",
     "output_type": "stream",
     "text": [
      "313/313 [==============================] - 1s 2ms/step - loss: 72.5471 - accuracy: 0.8555\n"
     ]
    },
    {
     "data": {
      "text/plain": [
       "[72.54708099365234, 0.8554999828338623]"
      ]
     },
     "execution_count": 16,
     "metadata": {},
     "output_type": "execute_result"
    }
   ],
   "source": [
    "model.evaluate(X_test,y_test)"
   ]
  },
  {
   "cell_type": "code",
   "execution_count": 17,
   "metadata": {},
   "outputs": [
    {
     "name": "stdout",
     "output_type": "stream",
     "text": [
      "313/313 [==============================] - 1s 2ms/step - loss: 72.5471 - accuracy: 0.8555\n",
      "313/313 [==============================] - 1s 2ms/step - loss: 72.5471 - accuracy: 0.8555\n"
     ]
    }
   ],
   "source": [
    "losses.append(model.evaluate(X_test,y_test)[0])\n",
    "accuracies.append(model.evaluate(X_test,y_test)[1])"
   ]
  },
  {
   "cell_type": "markdown",
   "metadata": {},
   "source": [
    "## Nesterov Accelarated Gradient"
   ]
  },
  {
   "cell_type": "code",
   "execution_count": 18,
   "metadata": {},
   "outputs": [],
   "source": [
    "nestarov_optimizer = keras.optimizers.SGD(learning_rate=0.001,momentum=0.9,nesterov=True)"
   ]
  },
  {
   "cell_type": "code",
   "execution_count": 19,
   "metadata": {},
   "outputs": [],
   "source": [
    "model = keras.models.Sequential([\n",
    "    keras.layers.Flatten(input_shape=(28,28)),\n",
    "    keras.layers.Dense(units=300,activation='relu'),\n",
    "    keras.layers.Dense(units=100,activation='relu'),\n",
    "    keras.layers.Dense(units=10,activation='softmax')\n",
    "])"
   ]
  },
  {
   "cell_type": "code",
   "execution_count": 20,
   "metadata": {},
   "outputs": [],
   "source": [
    "model.compile(loss='sparse_categorical_crossentropy',optimizer=nestarov_optimizer,metrics=['accuracy'])"
   ]
  },
  {
   "cell_type": "code",
   "execution_count": 21,
   "metadata": {
    "scrolled": true
   },
   "outputs": [
    {
     "name": "stdout",
     "output_type": "stream",
     "text": [
      "Epoch 1/50\n",
      "1719/1719 [==============================] - 7s 4ms/step - loss: 0.7197 - accuracy: 0.7632 - val_loss: 0.5062 - val_accuracy: 0.8258\n",
      "Epoch 2/50\n",
      "1719/1719 [==============================] - 6s 3ms/step - loss: 0.4808 - accuracy: 0.8325 - val_loss: 0.4602 - val_accuracy: 0.8393\n",
      "Epoch 3/50\n",
      "1719/1719 [==============================] - 6s 3ms/step - loss: 0.4379 - accuracy: 0.8469 - val_loss: 0.4371 - val_accuracy: 0.8435\n",
      "Epoch 4/50\n",
      "1719/1719 [==============================] - 6s 3ms/step - loss: 0.4111 - accuracy: 0.8565 - val_loss: 0.3914 - val_accuracy: 0.8636\n",
      "Epoch 5/50\n",
      "1719/1719 [==============================] - 5s 3ms/step - loss: 0.3918 - accuracy: 0.8621 - val_loss: 0.3761 - val_accuracy: 0.8687\n",
      "Epoch 6/50\n",
      "1719/1719 [==============================] - 6s 3ms/step - loss: 0.3770 - accuracy: 0.8673 - val_loss: 0.3582 - val_accuracy: 0.8748\n",
      "Epoch 7/50\n",
      "1719/1719 [==============================] - 6s 3ms/step - loss: 0.3633 - accuracy: 0.8728 - val_loss: 0.3496 - val_accuracy: 0.8764\n",
      "Epoch 8/50\n",
      "1719/1719 [==============================] - 5s 3ms/step - loss: 0.3527 - accuracy: 0.8755 - val_loss: 0.3459 - val_accuracy: 0.8768\n",
      "Epoch 9/50\n",
      "1719/1719 [==============================] - 5s 3ms/step - loss: 0.3423 - accuracy: 0.8788 - val_loss: 0.3259 - val_accuracy: 0.8860\n",
      "Epoch 10/50\n",
      "1719/1719 [==============================] - 6s 3ms/step - loss: 0.3334 - accuracy: 0.8806 - val_loss: 0.3160 - val_accuracy: 0.8872\n",
      "Epoch 11/50\n",
      "1719/1719 [==============================] - 6s 4ms/step - loss: 0.3237 - accuracy: 0.8856 - val_loss: 0.3079 - val_accuracy: 0.8912\n",
      "Epoch 12/50\n",
      "1719/1719 [==============================] - 7s 4ms/step - loss: 0.3168 - accuracy: 0.8871 - val_loss: 0.3040 - val_accuracy: 0.8926\n",
      "Epoch 13/50\n",
      "1719/1719 [==============================] - 6s 4ms/step - loss: 0.3101 - accuracy: 0.8891 - val_loss: 0.3098 - val_accuracy: 0.8903\n",
      "Epoch 14/50\n",
      "1719/1719 [==============================] - 6s 4ms/step - loss: 0.3028 - accuracy: 0.8915 - val_loss: 0.2873 - val_accuracy: 0.8968\n",
      "Epoch 15/50\n",
      "1719/1719 [==============================] - 7s 4ms/step - loss: 0.2946 - accuracy: 0.8945 - val_loss: 0.2962 - val_accuracy: 0.8944\n",
      "Epoch 16/50\n",
      "1719/1719 [==============================] - 7s 4ms/step - loss: 0.2896 - accuracy: 0.8968 - val_loss: 0.2743 - val_accuracy: 0.9028\n",
      "Epoch 17/50\n",
      "1719/1719 [==============================] - 6s 4ms/step - loss: 0.2837 - accuracy: 0.8985 - val_loss: 0.2747 - val_accuracy: 0.9008\n",
      "Epoch 18/50\n",
      "1719/1719 [==============================] - 6s 3ms/step - loss: 0.2789 - accuracy: 0.8998 - val_loss: 0.2806 - val_accuracy: 0.8986\n",
      "Epoch 19/50\n",
      "1719/1719 [==============================] - 5s 3ms/step - loss: 0.2735 - accuracy: 0.9014 - val_loss: 0.2597 - val_accuracy: 0.9076\n",
      "Epoch 20/50\n",
      "1719/1719 [==============================] - 5s 3ms/step - loss: 0.2680 - accuracy: 0.9045 - val_loss: 0.2552 - val_accuracy: 0.9097\n",
      "Epoch 21/50\n",
      "1719/1719 [==============================] - 5s 3ms/step - loss: 0.2633 - accuracy: 0.9059 - val_loss: 0.2574 - val_accuracy: 0.9075\n",
      "Epoch 22/50\n",
      "1719/1719 [==============================] - 5s 3ms/step - loss: 0.2579 - accuracy: 0.9079 - val_loss: 0.2542 - val_accuracy: 0.9075\n",
      "Epoch 23/50\n",
      "1719/1719 [==============================] - 5s 3ms/step - loss: 0.2543 - accuracy: 0.9087 - val_loss: 0.2398 - val_accuracy: 0.9152\n",
      "Epoch 24/50\n",
      "1719/1719 [==============================] - 5s 3ms/step - loss: 0.2496 - accuracy: 0.9103 - val_loss: 0.2539 - val_accuracy: 0.9083\n",
      "Epoch 25/50\n",
      "1719/1719 [==============================] - 5s 3ms/step - loss: 0.2442 - accuracy: 0.9128 - val_loss: 0.2369 - val_accuracy: 0.9163\n",
      "Epoch 26/50\n",
      "1719/1719 [==============================] - 5s 3ms/step - loss: 0.2406 - accuracy: 0.9123 - val_loss: 0.2312 - val_accuracy: 0.9178\n",
      "Epoch 27/50\n",
      "1719/1719 [==============================] - 5s 3ms/step - loss: 0.2370 - accuracy: 0.9158 - val_loss: 0.2211 - val_accuracy: 0.9219\n",
      "Epoch 28/50\n",
      "1719/1719 [==============================] - 5s 3ms/step - loss: 0.2330 - accuracy: 0.9177 - val_loss: 0.2175 - val_accuracy: 0.9227\n",
      "Epoch 29/50\n",
      "1719/1719 [==============================] - 5s 3ms/step - loss: 0.2284 - accuracy: 0.9183 - val_loss: 0.2267 - val_accuracy: 0.9189\n",
      "Epoch 30/50\n",
      "1719/1719 [==============================] - 5s 3ms/step - loss: 0.2230 - accuracy: 0.9212 - val_loss: 0.2175 - val_accuracy: 0.9225\n",
      "Epoch 31/50\n",
      "1719/1719 [==============================] - 6s 3ms/step - loss: 0.2198 - accuracy: 0.9218 - val_loss: 0.2096 - val_accuracy: 0.9261\n",
      "Epoch 32/50\n",
      "1719/1719 [==============================] - 6s 3ms/step - loss: 0.2181 - accuracy: 0.9217 - val_loss: 0.2171 - val_accuracy: 0.9221\n",
      "Epoch 33/50\n",
      "1719/1719 [==============================] - 5s 3ms/step - loss: 0.2127 - accuracy: 0.9235 - val_loss: 0.2089 - val_accuracy: 0.9261\n",
      "Epoch 34/50\n",
      "1719/1719 [==============================] - 5s 3ms/step - loss: 0.2101 - accuracy: 0.9247 - val_loss: 0.1955 - val_accuracy: 0.9315\n",
      "Epoch 35/50\n",
      "1719/1719 [==============================] - 5s 3ms/step - loss: 0.2061 - accuracy: 0.9263 - val_loss: 0.2073 - val_accuracy: 0.9254\n",
      "Epoch 36/50\n",
      "1719/1719 [==============================] - 6s 4ms/step - loss: 0.2031 - accuracy: 0.9277 - val_loss: 0.2004 - val_accuracy: 0.9281\n",
      "Epoch 37/50\n",
      "1719/1719 [==============================] - 7s 4ms/step - loss: 0.1993 - accuracy: 0.9294 - val_loss: 0.1881 - val_accuracy: 0.9337\n",
      "Epoch 38/50\n",
      "1719/1719 [==============================] - 7s 4ms/step - loss: 0.1963 - accuracy: 0.9318 - val_loss: 0.1871 - val_accuracy: 0.9339\n",
      "Epoch 39/50\n",
      "1719/1719 [==============================] - 6s 3ms/step - loss: 0.1937 - accuracy: 0.9309 - val_loss: 0.1772 - val_accuracy: 0.9385\n",
      "Epoch 40/50\n",
      "1719/1719 [==============================] - 5s 3ms/step - loss: 0.1904 - accuracy: 0.9323 - val_loss: 0.1864 - val_accuracy: 0.9331\n",
      "Epoch 41/50\n",
      "1719/1719 [==============================] - 5s 3ms/step - loss: 0.1870 - accuracy: 0.9331 - val_loss: 0.1720 - val_accuracy: 0.9403\n",
      "Epoch 42/50\n",
      "1719/1719 [==============================] - 5s 3ms/step - loss: 0.1832 - accuracy: 0.9349 - val_loss: 0.1849 - val_accuracy: 0.9329\n",
      "Epoch 43/50\n",
      "1719/1719 [==============================] - 5s 3ms/step - loss: 0.1810 - accuracy: 0.9351 - val_loss: 0.1765 - val_accuracy: 0.9381\n",
      "Epoch 44/50\n",
      "1719/1719 [==============================] - 5s 3ms/step - loss: 0.1783 - accuracy: 0.9369 - val_loss: 0.1727 - val_accuracy: 0.9384\n",
      "Epoch 45/50\n",
      "1719/1719 [==============================] - 5s 3ms/step - loss: 0.1761 - accuracy: 0.9372 - val_loss: 0.1713 - val_accuracy: 0.9400\n",
      "Epoch 46/50\n",
      "1719/1719 [==============================] - 5s 3ms/step - loss: 0.1710 - accuracy: 0.9396 - val_loss: 0.1734 - val_accuracy: 0.9380\n",
      "Epoch 47/50\n",
      "1719/1719 [==============================] - 5s 3ms/step - loss: 0.1686 - accuracy: 0.9403 - val_loss: 0.1732 - val_accuracy: 0.9378\n",
      "Epoch 48/50\n",
      "1719/1719 [==============================] - 5s 3ms/step - loss: 0.1675 - accuracy: 0.9403 - val_loss: 0.1530 - val_accuracy: 0.9466\n",
      "Epoch 49/50\n",
      "1719/1719 [==============================] - 5s 3ms/step - loss: 0.1633 - accuracy: 0.9420 - val_loss: 0.1537 - val_accuracy: 0.9470\n",
      "Epoch 50/50\n",
      "1719/1719 [==============================] - 5s 3ms/step - loss: 0.1619 - accuracy: 0.9426 - val_loss: 0.1562 - val_accuracy: 0.9447\n",
      "Wall time: 4min 48s\n"
     ]
    }
   ],
   "source": [
    "%time history = model.fit(X_train,y_train,epochs=50,validation_data=(X_train,y_train))"
   ]
  },
  {
   "cell_type": "code",
   "execution_count": 22,
   "metadata": {},
   "outputs": [
    {
     "name": "stdout",
     "output_type": "stream",
     "text": [
      "313/313 [==============================] - 1s 2ms/step - loss: 79.9836 - accuracy: 0.8450\n"
     ]
    },
    {
     "data": {
      "text/plain": [
       "[79.98359680175781, 0.8450000286102295]"
      ]
     },
     "execution_count": 22,
     "metadata": {},
     "output_type": "execute_result"
    }
   ],
   "source": [
    "model.evaluate(X_test,y_test)"
   ]
  },
  {
   "cell_type": "code",
   "execution_count": 23,
   "metadata": {},
   "outputs": [
    {
     "name": "stdout",
     "output_type": "stream",
     "text": [
      "313/313 [==============================] - 1s 2ms/step - loss: 79.9836 - accuracy: 0.8450\n",
      "313/313 [==============================] - 1s 2ms/step - loss: 79.9836 - accuracy: 0.8450\n"
     ]
    }
   ],
   "source": [
    "losses.append(model.evaluate(X_test,y_test)[0])\n",
    "accuracies.append(model.evaluate(X_test,y_test)[1])"
   ]
  },
  {
   "cell_type": "markdown",
   "metadata": {},
   "source": [
    "## Adagrad - Just don't use"
   ]
  },
  {
   "cell_type": "markdown",
   "metadata": {},
   "source": [
    "## RMSProp"
   ]
  },
  {
   "cell_type": "code",
   "execution_count": 24,
   "metadata": {},
   "outputs": [],
   "source": [
    "rmsprop_optimizer = keras.optimizers.RMSprop(learning_rate=0.001, rho=0.9)"
   ]
  },
  {
   "cell_type": "code",
   "execution_count": 25,
   "metadata": {},
   "outputs": [],
   "source": [
    "model = keras.models.Sequential([\n",
    "    keras.layers.Flatten(input_shape=(28,28)),\n",
    "    keras.layers.Dense(units=300,activation='relu'),\n",
    "    keras.layers.Dense(units=100,activation='relu'),\n",
    "    keras.layers.Dense(units=10,activation='softmax')\n",
    "])"
   ]
  },
  {
   "cell_type": "code",
   "execution_count": 26,
   "metadata": {},
   "outputs": [],
   "source": [
    "model.compile(loss='sparse_categorical_crossentropy',optimizer=rmsprop_optimizer,metrics=['accuracy'])"
   ]
  },
  {
   "cell_type": "code",
   "execution_count": 27,
   "metadata": {
    "scrolled": true
   },
   "outputs": [
    {
     "name": "stdout",
     "output_type": "stream",
     "text": [
      "Epoch 1/50\n",
      "1719/1719 [==============================] - 7s 4ms/step - loss: 0.5028 - accuracy: 0.8175 - val_loss: 0.4572 - val_accuracy: 0.8448\n",
      "Epoch 2/50\n",
      "1719/1719 [==============================] - 7s 4ms/step - loss: 0.3894 - accuracy: 0.8611 - val_loss: 0.3379 - val_accuracy: 0.8816\n",
      "Epoch 3/50\n",
      "1719/1719 [==============================] - 7s 4ms/step - loss: 0.3682 - accuracy: 0.8701 - val_loss: 0.3463 - val_accuracy: 0.8738\n",
      "Epoch 4/50\n",
      "1719/1719 [==============================] - 7s 4ms/step - loss: 0.3533 - accuracy: 0.8760 - val_loss: 0.3302 - val_accuracy: 0.8845\n",
      "Epoch 5/50\n",
      "1719/1719 [==============================] - 7s 4ms/step - loss: 0.3439 - accuracy: 0.8808 - val_loss: 0.3079 - val_accuracy: 0.8929\n",
      "Epoch 6/50\n",
      "1719/1719 [==============================] - 7s 4ms/step - loss: 0.3389 - accuracy: 0.8839 - val_loss: 0.3176 - val_accuracy: 0.8848\n",
      "Epoch 7/50\n",
      "1719/1719 [==============================] - 7s 4ms/step - loss: 0.3298 - accuracy: 0.8876 - val_loss: 0.3037 - val_accuracy: 0.8916\n",
      "Epoch 8/50\n",
      "1719/1719 [==============================] - 7s 4ms/step - loss: 0.3250 - accuracy: 0.8907 - val_loss: 0.3118 - val_accuracy: 0.8970\n",
      "Epoch 9/50\n",
      "1719/1719 [==============================] - 7s 4ms/step - loss: 0.3190 - accuracy: 0.8933 - val_loss: 0.2990 - val_accuracy: 0.8909\n",
      "Epoch 10/50\n",
      "1719/1719 [==============================] - 7s 4ms/step - loss: 0.3127 - accuracy: 0.8952 - val_loss: 0.2548 - val_accuracy: 0.9110\n",
      "Epoch 11/50\n",
      "1719/1719 [==============================] - 7s 4ms/step - loss: 0.3118 - accuracy: 0.8968 - val_loss: 0.3389 - val_accuracy: 0.8902\n",
      "Epoch 12/50\n",
      "1719/1719 [==============================] - 7s 4ms/step - loss: 0.3067 - accuracy: 0.9003 - val_loss: 0.2650 - val_accuracy: 0.9103\n",
      "Epoch 13/50\n",
      "1719/1719 [==============================] - 7s 4ms/step - loss: 0.2988 - accuracy: 0.9010 - val_loss: 0.2961 - val_accuracy: 0.8999\n",
      "Epoch 14/50\n",
      "1719/1719 [==============================] - 7s 4ms/step - loss: 0.2991 - accuracy: 0.9029 - val_loss: 0.2787 - val_accuracy: 0.9019\n",
      "Epoch 15/50\n",
      "1719/1719 [==============================] - 8s 5ms/step - loss: 0.2908 - accuracy: 0.9043 - val_loss: 0.2601 - val_accuracy: 0.9114\n",
      "Epoch 16/50\n",
      "1719/1719 [==============================] - 8s 5ms/step - loss: 0.2936 - accuracy: 0.9046 - val_loss: 0.2448 - val_accuracy: 0.9153\n",
      "Epoch 17/50\n",
      "1719/1719 [==============================] - 7s 4ms/step - loss: 0.2844 - accuracy: 0.9064 - val_loss: 0.2636 - val_accuracy: 0.9070\n",
      "Epoch 18/50\n",
      "1719/1719 [==============================] - 8s 4ms/step - loss: 0.2817 - accuracy: 0.9081 - val_loss: 0.2713 - val_accuracy: 0.9117\n",
      "Epoch 19/50\n",
      "1719/1719 [==============================] - 8s 5ms/step - loss: 0.2808 - accuracy: 0.9100 - val_loss: 0.2826 - val_accuracy: 0.9055\n",
      "Epoch 20/50\n",
      "1719/1719 [==============================] - 7s 4ms/step - loss: 0.2763 - accuracy: 0.9111 - val_loss: 0.2668 - val_accuracy: 0.9111\n",
      "Epoch 21/50\n",
      "1719/1719 [==============================] - 7s 4ms/step - loss: 0.2731 - accuracy: 0.9123 - val_loss: 0.2850 - val_accuracy: 0.9111\n",
      "Epoch 22/50\n",
      "1719/1719 [==============================] - 7s 4ms/step - loss: 0.2727 - accuracy: 0.9147 - val_loss: 0.2324 - val_accuracy: 0.9217\n",
      "Epoch 23/50\n",
      "1719/1719 [==============================] - 7s 4ms/step - loss: 0.2657 - accuracy: 0.9147 - val_loss: 0.2832 - val_accuracy: 0.9115\n",
      "Epoch 24/50\n",
      "1719/1719 [==============================] - 7s 4ms/step - loss: 0.2668 - accuracy: 0.9159 - val_loss: 0.2384 - val_accuracy: 0.9208\n",
      "Epoch 25/50\n",
      "1719/1719 [==============================] - 7s 4ms/step - loss: 0.2604 - accuracy: 0.9152 - val_loss: 0.2481 - val_accuracy: 0.9198\n",
      "Epoch 26/50\n",
      "1719/1719 [==============================] - 7s 4ms/step - loss: 0.2586 - accuracy: 0.9185 - val_loss: 0.2440 - val_accuracy: 0.9225\n",
      "Epoch 27/50\n",
      "1719/1719 [==============================] - 7s 4ms/step - loss: 0.2608 - accuracy: 0.9189 - val_loss: 0.2100 - val_accuracy: 0.9290\n",
      "Epoch 28/50\n",
      "1719/1719 [==============================] - 7s 4ms/step - loss: 0.2531 - accuracy: 0.9197 - val_loss: 0.2272 - val_accuracy: 0.9262\n",
      "Epoch 29/50\n",
      "1719/1719 [==============================] - 7s 4ms/step - loss: 0.2524 - accuracy: 0.9199 - val_loss: 0.2296 - val_accuracy: 0.9257\n",
      "Epoch 30/50\n",
      "1719/1719 [==============================] - 7s 4ms/step - loss: 0.2548 - accuracy: 0.9212 - val_loss: 0.3023 - val_accuracy: 0.9185\n",
      "Epoch 31/50\n",
      "1719/1719 [==============================] - 7s 4ms/step - loss: 0.2482 - accuracy: 0.9227 - val_loss: 0.2530 - val_accuracy: 0.9279\n",
      "Epoch 32/50\n",
      "1719/1719 [==============================] - 7s 4ms/step - loss: 0.2577 - accuracy: 0.9227 - val_loss: 0.2623 - val_accuracy: 0.9161\n",
      "Epoch 33/50\n",
      "1719/1719 [==============================] - 7s 4ms/step - loss: 0.2464 - accuracy: 0.9228 - val_loss: 0.2153 - val_accuracy: 0.9318\n",
      "Epoch 34/50\n",
      "1719/1719 [==============================] - 7s 4ms/step - loss: 0.2432 - accuracy: 0.9227 - val_loss: 0.2577 - val_accuracy: 0.9188\n",
      "Epoch 35/50\n",
      "1719/1719 [==============================] - 7s 4ms/step - loss: 0.2459 - accuracy: 0.9237 - val_loss: 0.2375 - val_accuracy: 0.9297\n",
      "Epoch 36/50\n",
      "1719/1719 [==============================] - 7s 4ms/step - loss: 0.2414 - accuracy: 0.9262 - val_loss: 0.2460 - val_accuracy: 0.9181\n",
      "Epoch 37/50\n",
      "1719/1719 [==============================] - 7s 4ms/step - loss: 0.2436 - accuracy: 0.9262 - val_loss: 0.2136 - val_accuracy: 0.9324\n",
      "Epoch 38/50\n",
      "1719/1719 [==============================] - 7s 4ms/step - loss: 0.2410 - accuracy: 0.9273 - val_loss: 0.2170 - val_accuracy: 0.9279\n",
      "Epoch 39/50\n",
      "1719/1719 [==============================] - 8s 5ms/step - loss: 0.2374 - accuracy: 0.9281 - val_loss: 0.2263 - val_accuracy: 0.9305\n",
      "Epoch 40/50\n",
      "1719/1719 [==============================] - 8s 5ms/step - loss: 0.2361 - accuracy: 0.9281 - val_loss: 0.2063 - val_accuracy: 0.9336\n",
      "Epoch 41/50\n",
      "1719/1719 [==============================] - 8s 5ms/step - loss: 0.2317 - accuracy: 0.9293 - val_loss: 0.2614 - val_accuracy: 0.9234\n",
      "Epoch 42/50\n",
      "1719/1719 [==============================] - 8s 5ms/step - loss: 0.2308 - accuracy: 0.9297 - val_loss: 0.2354 - val_accuracy: 0.9196\n",
      "Epoch 43/50\n",
      "1719/1719 [==============================] - 7s 4ms/step - loss: 0.2332 - accuracy: 0.9305 - val_loss: 0.1878 - val_accuracy: 0.9378\n",
      "Epoch 44/50\n",
      "1719/1719 [==============================] - 9s 5ms/step - loss: 0.2300 - accuracy: 0.9312 - val_loss: 0.2367 - val_accuracy: 0.9315\n",
      "Epoch 45/50\n",
      "1719/1719 [==============================] - 7s 4ms/step - loss: 0.2364 - accuracy: 0.9321 - val_loss: 0.2874 - val_accuracy: 0.9191\n",
      "Epoch 46/50\n",
      "1719/1719 [==============================] - 7s 4ms/step - loss: 0.2257 - accuracy: 0.9331 - val_loss: 0.1958 - val_accuracy: 0.9374\n",
      "Epoch 47/50\n",
      "1719/1719 [==============================] - 7s 4ms/step - loss: 0.2273 - accuracy: 0.9335 - val_loss: 0.1707 - val_accuracy: 0.9459\n",
      "Epoch 48/50\n",
      "1719/1719 [==============================] - 8s 5ms/step - loss: 0.2216 - accuracy: 0.9341 - val_loss: 0.1813 - val_accuracy: 0.9419\n",
      "Epoch 49/50\n",
      "1719/1719 [==============================] - 8s 5ms/step - loss: 0.2152 - accuracy: 0.9347 - val_loss: 0.2763 - val_accuracy: 0.9266\n",
      "Epoch 50/50\n",
      "1719/1719 [==============================] - 8s 5ms/step - loss: 0.2210 - accuracy: 0.9357 - val_loss: 0.1739 - val_accuracy: 0.9450\n",
      "Wall time: 6min 3s\n"
     ]
    }
   ],
   "source": [
    "%time history = model.fit(X_train,y_train,epochs=50,validation_data=(X_train,y_train))"
   ]
  },
  {
   "cell_type": "code",
   "execution_count": 28,
   "metadata": {},
   "outputs": [
    {
     "name": "stdout",
     "output_type": "stream",
     "text": [
      "313/313 [==============================] - 1s 2ms/step - loss: 390.5974 - accuracy: 0.8688\n"
     ]
    },
    {
     "data": {
      "text/plain": [
       "[390.5973815917969, 0.8687999844551086]"
      ]
     },
     "execution_count": 28,
     "metadata": {},
     "output_type": "execute_result"
    }
   ],
   "source": [
    "model.evaluate(X_test,y_test)"
   ]
  },
  {
   "cell_type": "code",
   "execution_count": 29,
   "metadata": {},
   "outputs": [
    {
     "name": "stdout",
     "output_type": "stream",
     "text": [
      "313/313 [==============================] - 1s 2ms/step - loss: 390.5974 - accuracy: 0.8688\n",
      "313/313 [==============================] - 1s 2ms/step - loss: 390.5974 - accuracy: 0.8688\n"
     ]
    }
   ],
   "source": [
    "losses.append(model.evaluate(X_test,y_test)[0])\n",
    "accuracies.append(model.evaluate(X_test,y_test)[1])"
   ]
  },
  {
   "cell_type": "markdown",
   "metadata": {},
   "source": [
    "## Adam"
   ]
  },
  {
   "cell_type": "code",
   "execution_count": 30,
   "metadata": {},
   "outputs": [],
   "source": [
    "adam_optimizer = keras.optimizers.Adam(learning_rate=0.001,beta_1=0.9,beta_2=0.999)"
   ]
  },
  {
   "cell_type": "code",
   "execution_count": 31,
   "metadata": {},
   "outputs": [],
   "source": [
    "model = keras.models.Sequential([\n",
    "    keras.layers.Flatten(input_shape=(28,28)),\n",
    "    keras.layers.Dense(units=300,activation='relu'),\n",
    "    keras.layers.Dense(units=100,activation='relu'),\n",
    "    keras.layers.Dense(units=10,activation='softmax')\n",
    "])"
   ]
  },
  {
   "cell_type": "code",
   "execution_count": 32,
   "metadata": {},
   "outputs": [],
   "source": [
    "model.compile(loss='sparse_categorical_crossentropy',optimizer=adam_optimizer,metrics=['accuracy'])"
   ]
  },
  {
   "cell_type": "code",
   "execution_count": 33,
   "metadata": {
    "scrolled": true
   },
   "outputs": [
    {
     "name": "stdout",
     "output_type": "stream",
     "text": [
      "Epoch 1/50\n",
      "1719/1719 [==============================] - 7s 4ms/step - loss: 0.4847 - accuracy: 0.8251 - val_loss: 0.3900 - val_accuracy: 0.8545\n",
      "Epoch 2/50\n",
      "1719/1719 [==============================] - 6s 4ms/step - loss: 0.3649 - accuracy: 0.8667 - val_loss: 0.3239 - val_accuracy: 0.8773\n",
      "Epoch 3/50\n",
      "1719/1719 [==============================] - 6s 4ms/step - loss: 0.3279 - accuracy: 0.8772 - val_loss: 0.3010 - val_accuracy: 0.8885\n",
      "Epoch 4/50\n",
      "1719/1719 [==============================] - 7s 4ms/step - loss: 0.3043 - accuracy: 0.8855 - val_loss: 0.2847 - val_accuracy: 0.8940\n",
      "Epoch 5/50\n",
      "1719/1719 [==============================] - 6s 4ms/step - loss: 0.2883 - accuracy: 0.8921 - val_loss: 0.2893 - val_accuracy: 0.8887\n",
      "Epoch 6/50\n",
      "1719/1719 [==============================] - 7s 4ms/step - loss: 0.2710 - accuracy: 0.8980 - val_loss: 0.2441 - val_accuracy: 0.9072\n",
      "Epoch 7/50\n",
      "1719/1719 [==============================] - 6s 4ms/step - loss: 0.2616 - accuracy: 0.9006 - val_loss: 0.2465 - val_accuracy: 0.9064\n",
      "Epoch 8/50\n",
      "1719/1719 [==============================] - 6s 4ms/step - loss: 0.2452 - accuracy: 0.9067 - val_loss: 0.2239 - val_accuracy: 0.9150\n",
      "Epoch 9/50\n",
      "1719/1719 [==============================] - 6s 4ms/step - loss: 0.2377 - accuracy: 0.9093 - val_loss: 0.2124 - val_accuracy: 0.9199\n",
      "Epoch 10/50\n",
      "1719/1719 [==============================] - 6s 4ms/step - loss: 0.2263 - accuracy: 0.9134 - val_loss: 0.2238 - val_accuracy: 0.9131\n",
      "Epoch 11/50\n",
      "1719/1719 [==============================] - 6s 3ms/step - loss: 0.2178 - accuracy: 0.9174 - val_loss: 0.1924 - val_accuracy: 0.9267\n",
      "Epoch 12/50\n",
      "1719/1719 [==============================] - 6s 3ms/step - loss: 0.2110 - accuracy: 0.9200 - val_loss: 0.2014 - val_accuracy: 0.9237\n",
      "Epoch 13/50\n",
      "1719/1719 [==============================] - 6s 3ms/step - loss: 0.2014 - accuracy: 0.9233 - val_loss: 0.1987 - val_accuracy: 0.9248\n",
      "Epoch 14/50\n",
      "1719/1719 [==============================] - 6s 3ms/step - loss: 0.1961 - accuracy: 0.9261 - val_loss: 0.1768 - val_accuracy: 0.9324\n",
      "Epoch 15/50\n",
      "1719/1719 [==============================] - 6s 3ms/step - loss: 0.1889 - accuracy: 0.9278 - val_loss: 0.1803 - val_accuracy: 0.9323\n",
      "Epoch 16/50\n",
      "1719/1719 [==============================] - 6s 3ms/step - loss: 0.1819 - accuracy: 0.9296 - val_loss: 0.1693 - val_accuracy: 0.9355\n",
      "Epoch 17/50\n",
      "1719/1719 [==============================] - 6s 3ms/step - loss: 0.1780 - accuracy: 0.9312 - val_loss: 0.1585 - val_accuracy: 0.9389\n",
      "Epoch 18/50\n",
      "1719/1719 [==============================] - 6s 3ms/step - loss: 0.1731 - accuracy: 0.9341 - val_loss: 0.1656 - val_accuracy: 0.9375\n",
      "Epoch 19/50\n",
      "1719/1719 [==============================] - 6s 3ms/step - loss: 0.1640 - accuracy: 0.9367 - val_loss: 0.1572 - val_accuracy: 0.9403\n",
      "Epoch 20/50\n",
      "1719/1719 [==============================] - 6s 3ms/step - loss: 0.1610 - accuracy: 0.9376 - val_loss: 0.1467 - val_accuracy: 0.9425\n",
      "Epoch 21/50\n",
      "1719/1719 [==============================] - 6s 3ms/step - loss: 0.1576 - accuracy: 0.9384 - val_loss: 0.1521 - val_accuracy: 0.9397\n",
      "Epoch 22/50\n",
      "1719/1719 [==============================] - 6s 3ms/step - loss: 0.1519 - accuracy: 0.9415 - val_loss: 0.1326 - val_accuracy: 0.9502\n",
      "Epoch 23/50\n",
      "1719/1719 [==============================] - 6s 4ms/step - loss: 0.1493 - accuracy: 0.9418 - val_loss: 0.1315 - val_accuracy: 0.9503\n",
      "Epoch 24/50\n",
      "1719/1719 [==============================] - 6s 3ms/step - loss: 0.1460 - accuracy: 0.9440 - val_loss: 0.1471 - val_accuracy: 0.9432\n",
      "Epoch 25/50\n",
      "1719/1719 [==============================] - 6s 4ms/step - loss: 0.1406 - accuracy: 0.9460 - val_loss: 0.1500 - val_accuracy: 0.9442\n",
      "Epoch 26/50\n",
      "1719/1719 [==============================] - 6s 3ms/step - loss: 0.1380 - accuracy: 0.9471 - val_loss: 0.1299 - val_accuracy: 0.9500\n",
      "Epoch 27/50\n",
      "1719/1719 [==============================] - 7s 4ms/step - loss: 0.1343 - accuracy: 0.9486 - val_loss: 0.1206 - val_accuracy: 0.9543\n",
      "Epoch 28/50\n",
      "1719/1719 [==============================] - 6s 4ms/step - loss: 0.1318 - accuracy: 0.9489 - val_loss: 0.1395 - val_accuracy: 0.9463\n",
      "Epoch 29/50\n",
      "1719/1719 [==============================] - 6s 3ms/step - loss: 0.1259 - accuracy: 0.9512 - val_loss: 0.1251 - val_accuracy: 0.9520\n",
      "Epoch 30/50\n",
      "1719/1719 [==============================] - 6s 3ms/step - loss: 0.1284 - accuracy: 0.9505 - val_loss: 0.1174 - val_accuracy: 0.9543\n",
      "Epoch 31/50\n",
      "1719/1719 [==============================] - 6s 3ms/step - loss: 0.1242 - accuracy: 0.9525 - val_loss: 0.1022 - val_accuracy: 0.9616\n",
      "Epoch 32/50\n",
      "1719/1719 [==============================] - 6s 3ms/step - loss: 0.1208 - accuracy: 0.9543 - val_loss: 0.1095 - val_accuracy: 0.9575\n",
      "Epoch 33/50\n",
      "1719/1719 [==============================] - 6s 3ms/step - loss: 0.1187 - accuracy: 0.9537 - val_loss: 0.1083 - val_accuracy: 0.9597\n",
      "Epoch 34/50\n",
      "1719/1719 [==============================] - 6s 3ms/step - loss: 0.1123 - accuracy: 0.9562 - val_loss: 0.1124 - val_accuracy: 0.9559\n",
      "Epoch 35/50\n",
      "1719/1719 [==============================] - 6s 3ms/step - loss: 0.1122 - accuracy: 0.9570 - val_loss: 0.1124 - val_accuracy: 0.9565\n",
      "Epoch 36/50\n",
      "1719/1719 [==============================] - 6s 3ms/step - loss: 0.1120 - accuracy: 0.9560 - val_loss: 0.1015 - val_accuracy: 0.9621\n",
      "Epoch 37/50\n",
      "1719/1719 [==============================] - 6s 3ms/step - loss: 0.1089 - accuracy: 0.9586 - val_loss: 0.1035 - val_accuracy: 0.9607\n",
      "Epoch 38/50\n",
      "1719/1719 [==============================] - 6s 3ms/step - loss: 0.1048 - accuracy: 0.9598 - val_loss: 0.1081 - val_accuracy: 0.9563\n",
      "Epoch 39/50\n",
      "1719/1719 [==============================] - 6s 3ms/step - loss: 0.1039 - accuracy: 0.9603 - val_loss: 0.0812 - val_accuracy: 0.9686\n",
      "Epoch 40/50\n",
      "1719/1719 [==============================] - 6s 3ms/step - loss: 0.1000 - accuracy: 0.9625 - val_loss: 0.0838 - val_accuracy: 0.9681\n",
      "Epoch 41/50\n",
      "1719/1719 [==============================] - 6s 3ms/step - loss: 0.1048 - accuracy: 0.9601 - val_loss: 0.0897 - val_accuracy: 0.9662\n",
      "Epoch 42/50\n",
      "1719/1719 [==============================] - 6s 3ms/step - loss: 0.0957 - accuracy: 0.9635 - val_loss: 0.1196 - val_accuracy: 0.9572\n",
      "Epoch 43/50\n",
      "1719/1719 [==============================] - 6s 3ms/step - loss: 0.0990 - accuracy: 0.9626 - val_loss: 0.1235 - val_accuracy: 0.9539\n",
      "Epoch 44/50\n",
      "1719/1719 [==============================] - 6s 4ms/step - loss: 0.0951 - accuracy: 0.9631 - val_loss: 0.0959 - val_accuracy: 0.9631\n",
      "Epoch 45/50\n",
      "1719/1719 [==============================] - 6s 3ms/step - loss: 0.0925 - accuracy: 0.9648 - val_loss: 0.0775 - val_accuracy: 0.9707\n",
      "Epoch 46/50\n",
      "1719/1719 [==============================] - 6s 4ms/step - loss: 0.0947 - accuracy: 0.9645 - val_loss: 0.1000 - val_accuracy: 0.9625\n",
      "Epoch 47/50\n",
      "1719/1719 [==============================] - 6s 3ms/step - loss: 0.0881 - accuracy: 0.9661 - val_loss: 0.0752 - val_accuracy: 0.9716\n",
      "Epoch 48/50\n",
      "1719/1719 [==============================] - 6s 3ms/step - loss: 0.0890 - accuracy: 0.9661 - val_loss: 0.0788 - val_accuracy: 0.9690\n",
      "Epoch 49/50\n",
      "1719/1719 [==============================] - 6s 3ms/step - loss: 0.0848 - accuracy: 0.9670 - val_loss: 0.0787 - val_accuracy: 0.9699\n",
      "Epoch 50/50\n",
      "1719/1719 [==============================] - 6s 3ms/step - loss: 0.0849 - accuracy: 0.9678 - val_loss: 0.0801 - val_accuracy: 0.9707\n",
      "Wall time: 5min\n"
     ]
    }
   ],
   "source": [
    "%time history = model.fit(X_train,y_train,epochs=50,validation_data=(X_train,y_train))"
   ]
  },
  {
   "cell_type": "code",
   "execution_count": 34,
   "metadata": {},
   "outputs": [
    {
     "name": "stdout",
     "output_type": "stream",
     "text": [
      "313/313 [==============================] - 1s 2ms/step - loss: 135.4987 - accuracy: 0.8648\n"
     ]
    },
    {
     "data": {
      "text/plain": [
       "[135.4986572265625, 0.864799976348877]"
      ]
     },
     "execution_count": 34,
     "metadata": {},
     "output_type": "execute_result"
    }
   ],
   "source": [
    "model.evaluate(X_test,y_test)"
   ]
  },
  {
   "cell_type": "code",
   "execution_count": 35,
   "metadata": {},
   "outputs": [
    {
     "name": "stdout",
     "output_type": "stream",
     "text": [
      "313/313 [==============================] - 1s 2ms/step - loss: 135.4987 - accuracy: 0.8648\n",
      "313/313 [==============================] - 1s 2ms/step - loss: 135.4987 - accuracy: 0.8648\n"
     ]
    }
   ],
   "source": [
    "losses.append(model.evaluate(X_test,y_test)[0])\n",
    "accuracies.append(model.evaluate(X_test,y_test)[1])"
   ]
  },
  {
   "cell_type": "code",
   "execution_count": 45,
   "metadata": {},
   "outputs": [
    {
     "name": "stdout",
     "output_type": "stream",
     "text": [
      "1719/1719 [==============================] - 3s 2ms/step - loss: 0.0801 - accuracy: 0.9707\n"
     ]
    },
    {
     "data": {
      "text/plain": [
       "[0.0801306813955307, 0.9707454442977905]"
      ]
     },
     "execution_count": 45,
     "metadata": {},
     "output_type": "execute_result"
    }
   ],
   "source": [
    "model.evaluate(X_train,y_train)"
   ]
  },
  {
   "cell_type": "code",
   "execution_count": 43,
   "metadata": {},
   "outputs": [],
   "source": [
    "benchmarks = pd.DataFrame()\n",
    "benchmarks['optimizers'] = opts\n",
    "benchmarks['losses'] = losses\n",
    "benchmarks['accuracies'] = accuracies"
   ]
  },
  {
   "cell_type": "code",
   "execution_count": 44,
   "metadata": {},
   "outputs": [
    {
     "data": {
      "text/html": [
       "<div>\n",
       "<style scoped>\n",
       "    .dataframe tbody tr th:only-of-type {\n",
       "        vertical-align: middle;\n",
       "    }\n",
       "\n",
       "    .dataframe tbody tr th {\n",
       "        vertical-align: top;\n",
       "    }\n",
       "\n",
       "    .dataframe thead th {\n",
       "        text-align: right;\n",
       "    }\n",
       "</style>\n",
       "<table border=\"1\" class=\"dataframe\">\n",
       "  <thead>\n",
       "    <tr style=\"text-align: right;\">\n",
       "      <th></th>\n",
       "      <th>optimizers</th>\n",
       "      <th>losses</th>\n",
       "      <th>accuracies</th>\n",
       "    </tr>\n",
       "  </thead>\n",
       "  <tbody>\n",
       "    <tr>\n",
       "      <th>0</th>\n",
       "      <td>sgd</td>\n",
       "      <td>78.039970</td>\n",
       "      <td>0.8156</td>\n",
       "    </tr>\n",
       "    <tr>\n",
       "      <th>1</th>\n",
       "      <td>momentum</td>\n",
       "      <td>72.547081</td>\n",
       "      <td>0.8555</td>\n",
       "    </tr>\n",
       "    <tr>\n",
       "      <th>2</th>\n",
       "      <td>nesterov</td>\n",
       "      <td>79.983597</td>\n",
       "      <td>0.8450</td>\n",
       "    </tr>\n",
       "    <tr>\n",
       "      <th>3</th>\n",
       "      <td>rmsprop</td>\n",
       "      <td>390.597382</td>\n",
       "      <td>0.8688</td>\n",
       "    </tr>\n",
       "    <tr>\n",
       "      <th>4</th>\n",
       "      <td>adam</td>\n",
       "      <td>135.498657</td>\n",
       "      <td>0.8648</td>\n",
       "    </tr>\n",
       "  </tbody>\n",
       "</table>\n",
       "</div>"
      ],
      "text/plain": [
       "  optimizers      losses  accuracies\n",
       "0        sgd   78.039970      0.8156\n",
       "1   momentum   72.547081      0.8555\n",
       "2   nesterov   79.983597      0.8450\n",
       "3    rmsprop  390.597382      0.8688\n",
       "4       adam  135.498657      0.8648"
      ]
     },
     "execution_count": 44,
     "metadata": {},
     "output_type": "execute_result"
    }
   ],
   "source": [
    "benchmarks"
   ]
  },
  {
   "cell_type": "markdown",
   "metadata": {},
   "source": [
    "## Next time, remember to plot training and testing loss and accuracies"
   ]
  },
  {
   "cell_type": "markdown",
   "metadata": {},
   "source": [
    "## OK"
   ]
  }
 ],
 "metadata": {
  "kernelspec": {
   "display_name": "Python 3",
   "language": "python",
   "name": "python3"
  },
  "language_info": {
   "codemirror_mode": {
    "name": "ipython",
    "version": 3
   },
   "file_extension": ".py",
   "mimetype": "text/x-python",
   "name": "python",
   "nbconvert_exporter": "python",
   "pygments_lexer": "ipython3",
   "version": "3.8.3"
  }
 },
 "nbformat": 4,
 "nbformat_minor": 4
}
